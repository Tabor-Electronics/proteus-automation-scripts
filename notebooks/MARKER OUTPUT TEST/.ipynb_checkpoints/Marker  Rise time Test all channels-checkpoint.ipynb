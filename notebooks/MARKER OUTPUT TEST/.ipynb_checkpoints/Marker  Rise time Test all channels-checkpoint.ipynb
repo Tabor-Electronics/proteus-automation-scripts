{
 "cells": [
  {
   "cell_type": "markdown",
   "metadata": {},
   "source": [
    "<img align=\"left\" src=\"https://www.taborelec.com/Pictures/logo.png\">"
   ]
  },
  {
   "cell_type": "markdown",
   "metadata": {},
   "source": [
    "# MARKER RISE TIME"
   ]
  },
  {
   "cell_type": "markdown",
   "metadata": {},
   "source": [
    "### Test Description:\n",
    "This script comes to demonstrate downloading markers to a Proteus device and test for marker waveform rise time.\n",
    "This scripts supports connection via LAN and PXI\n",
    "\n",
    "# Test Equipment\n",
    "1. Tabor Proteus 9484M\n",
    "2. Keysight Oscilloscope MSO9254A\n",
    "3. 4 SMA to BNC Cable\n",
    "\n",
    "# Hardware Connection\n",
    "    Proteus Module    --->     Oscilloscope\n",
    "    Channel 1         --->      Channel 1\n",
    "    Channel 2         --->      Channel 2\n",
    "    Channel 3         --->      Channel 3\n",
    "    Channel 4         --->      Channel 4\n",
    "\n",
    "\n",
    "# Test Procedure\n",
    "1. Connect a channel to oscilloscope channel 1 and each marker separately and perform the test for all marker with respective channels individually.\n",
    "2. Run the script and observe output on scope.\n",
    "\n",
    "Proteus release - Aurora\n"
   ]
  },
  {
   "cell_type": "code",
   "execution_count": 1,
   "metadata": {},
   "outputs": [],
   "source": [
    "##Parameters required\n",
    "ip_address = '192.90.70.22'\n",
    "FREQ = 2500\n",
    "channb = 1\n",
    "mrkr = 1\n",
    "channel_on_scope = 1\n",
    "mrkr_on_scope = 2"
   ]
  },
  {
   "cell_type": "code",
   "execution_count": 2,
   "metadata": {},
   "outputs": [],
   "source": [
    "# a function that shows me the wave I created as f(x)\n",
    "def plot(x,y):\n",
    "    fig = plt.figure()   \n",
    "    ax = fig.add_subplot(1, 1, 1)\n",
    "    ax.spines['left'].set_position('center')\n",
    "    ax.spines['bottom'].set_position('center')\n",
    "    ax.spines['right'].set_color('none')\n",
    "    ax.spines['top'].set_color('none')\n",
    "    ax.xaxis.set_ticks_position('bottom')\n",
    "    ax.yaxis.set_ticks_position('left')\n",
    "    # plot the function\n",
    "    plt.plot(x,y, 'g')\n",
    "    # show the plot\n",
    "    plt.show()\n",
    "    \n",
    "# '''\n",
    "# a function that build a squre wave with the following parameters: \n",
    "# @param  start_x: the start point of x \n",
    "# @param  end_x: the end point of x \n",
    "# @param How much points to create\n",
    "# @param  end_x: How much cycles \n",
    "# @returns x and y     \n",
    "# '''\n",
    "# def prepare_squre_wave(start_x,end_x,num_points,cycle_num):\n",
    "#     x = np.linspace(start_x, end_x, num_points , endpoint=False)\n",
    "#     y = signal.square(2 * np.pi * cycle_num * x)\n",
    "#     #plot(x,y)\n",
    "#     return x,y  \n",
    "    "
   ]
  },
  {
   "cell_type": "code",
   "execution_count": 3,
   "metadata": {},
   "outputs": [
    {
     "name": "stdout",
     "output_type": "stream",
     "text": [
      "Service connect\n",
      "Trying to connect to IP:192.90.70.22\n",
      "Connected to: Tabor Electronics,P9484M,000002232771,1.238.6 --Tabor Electronics,P9484M,000000000000,1.238.6 --slot#: 2, slot#: 4, \n",
      "Reset instrument ..\n",
      "Model: P9484M\n",
      "DAC waveform format: 16 bits-per-point\n",
      "Number of channels: 4\n",
      "Max segment number: 65536\n",
      "Available memory per DDR: 17,171,480,576 wave-bytes\n"
     ]
    }
   ],
   "source": [
    "## Import required Libraries\n",
    "import os\n",
    "import sys\n",
    "import tempfile\n",
    "import webbrowser\n",
    "srcpath = os.path.realpath('..//..//SourceFiles')\n",
    "sys.path.append(srcpath)\n",
    "from teproteus import TEProteusAdmin as TepAdmin\n",
    "from teproteus import TEProteusInst as TepInst\n",
    "from teproteus_functions_v3 import connect\n",
    "from teproteus_functions_v3 import disconnect\n",
    "from teproteus_functions_v3 import set_lib_dir_path\n",
    "from teproteus_functions_v3 import get_cpatured_header\n",
    "from teproteus_functions_v3 import gauss_env\n",
    "from teproteus_functions_v3 import iq_kernel\n",
    "from teproteus_functions_v3 import pack_kernel_data\n",
    "from teproteus import TEProteusAdmin, TEProteusInst\n",
    "from tevisainst import TEVisaInst\n",
    "# matplotlib notebook\n",
    "import numpy as np\n",
    "import time\n",
    "import ipywidgets as widgets\n",
    "from IPython.core.debugger import set_trace\n",
    "from scipy.signal import chirp, sweep_poly\n",
    "import matplotlib.pyplot as plt\n",
    "\n",
    "plt.style.use('ggplot')\n",
    "from scipy import signal\n",
    "import math\n",
    "import pdb\n",
    "\n",
    "import pyvisa as visa\n",
    "from pyvisa.errors import Error\n",
    "\n",
    "# Connect Proteus \n",
    "inst = connect(ip_address)\n",
    "\n",
    "# Get the instrument's *IDN\n",
    "resp = inst.send_scpi_query('*IDN?')\n",
    "print('Connected to: ' + resp)\n",
    "inst.default_paranoia_level = 2\n",
    "print ('Reset instrument ..')\n",
    "paranoia_level=2\n",
    "# Reset the instrument\n",
    "inst.send_scpi_cmd( '*CLS; *RST', paranoia_level)\n",
    "inst.send_scpi_cmd( ':TRACe:DELete:ALL', paranoia_level)\n",
    "inst.send_scpi_cmd(\":INIT:CONT ON\")\n",
    "\n",
    "# Get the model name\n",
    "model = inst.send_scpi_query(\":SYST:iNF:MODel?\")\n",
    "print(\"Model: \" + model)\n",
    "\n",
    "# Infer the natural DAC waveform format\n",
    "if 'P908' in model:\n",
    "    dac_mode = 8\n",
    "else:\n",
    "    dac_mode = 16\n",
    "print(\"DAC waveform format: {0} bits-per-point\".format(dac_mode))\n",
    "\n",
    "# Get number of channels\n",
    "resp = inst.send_scpi_query(\":INST:CHAN? MAX\")\n",
    "print(\"Number of channels: \" + resp)\n",
    "num_channels = int(resp)\n",
    "\n",
    "# Get the maximal number of segments\n",
    "resp = inst.send_scpi_query(\":TRACe:SELect:SEGMent? MAX\")\n",
    "print(\"Max segment number: \" + resp)\n",
    "max_seg_number = int(resp)\n",
    "\n",
    "# Get the available memory in bytes of wavform-data (per DDR):\n",
    "resp = inst.send_scpi_query(\":TRACe:FREE?\")\n",
    "arbmem_capacity = int(resp)\n",
    "print(\"Available memory per DDR: {0:,} wave-bytes\".format(arbmem_capacity))\n",
    "\n",
    "if dac_mode == 16:\n",
    "    max_dac = 65535\n",
    "    data_type = np.uint16 \n",
    "else:\n",
    "    max_dac = 255\n",
    "    data_type = np.uint8 \n",
    "    \n",
    "half_dac = max_dac / 2.0 \n",
    "resp = inst.send_scpi_query(':SYST:ERR?')\n",
    "if not resp.startswith('0'):\n",
    "    print(\"ERROR\",resp)"
   ]
  },
  {
   "cell_type": "code",
   "execution_count": 4,
   "metadata": {},
   "outputs": [
    {
     "name": "stdout",
     "output_type": "stream",
     "text": [
      "*IDN? returned: KEYSIGHT TECHNOLOGIES,MSO9254A,MY55490134,06.40.01101\n"
     ]
    }
   ],
   "source": [
    "    \n",
    "scope_addr2= 'USB0::0x2A8D::0x900E::MY55490134::INSTR'\n",
    "# connect to scope via USB\n",
    "try:\n",
    "    resourceManager = visa.ResourceManager()   # Create a connection (session) to the instrument\n",
    "    scope = resourceManager.open_resource(scope_addr2)\n",
    "except visa.Error as ex2:\n",
    "        print('Couldn\\'t connect to \\'%s\\', exiting now...' % scope_addr2)\n",
    "        sys.exit()\n",
    "    ## scope acquisition \n",
    "# Send *IDN? and read the response\n",
    "scope.write('*RST?')\n",
    "scope.write('*IDN?')\n",
    "idn = scope.read()\n",
    "print('*IDN? returned: %s' % idn.rstrip('\\n'))\n",
    "#scope.write('*CLS;:DISPlay:CGRade:LEVels ')"
   ]
  },
  {
   "cell_type": "code",
   "execution_count": 5,
   "metadata": {},
   "outputs": [
    {
     "name": "stdout",
     "output_type": "stream",
     "text": [
      "DAC Generate Freq:2500.0MHz\n"
     ]
    }
   ],
   "source": [
    "#FREQ = 2500\n",
    "inst.send_scpi_cmd(\":FREQ:RAST {0}MHz\".format(FREQ))\n",
    "resp = inst.send_scpi_query(\":FREQ:RAST?\")\n",
    "freq = float(resp)/1e6\n",
    "print (\"DAC Generate Freq:{0}MHz\".format(freq))\n",
    "resp = inst.send_scpi_query(':SYST:ERR?')\n",
    "if not resp.startswith('0'):\n",
    "    print(\"ERROR\",resp)"
   ]
  },
  {
   "cell_type": "markdown",
   "metadata": {},
   "source": [
    "## Prepare waveform's and marker's data for segments\n"
   ]
  },
  {
   "cell_type": "code",
   "execution_count": 6,
   "metadata": {},
   "outputs": [
    {
     "name": "stdout",
     "output_type": "stream",
     "text": [
      "Build wave-data and markers-data ..\n",
      "Done\n"
     ]
    }
   ],
   "source": [
    "# Build wave-data and markers-data \n",
    "print('Build wave-data and markers-data ..')\n",
    "seg_wave_points = 4096\n",
    "ncycles =  1\n",
    "cyclelen = seg_wave_points/ncycles\n",
    "\n",
    "wave = [ None ]\n",
    "mark = [ None ]\n",
    "\n",
    "# Buffer size for the waveform\n",
    "if dac_mode == 16:\n",
    "    \n",
    "    seg_wave_bytes = seg_wave_points * 2 # each point is 2 bytes in size\n",
    "else:\n",
    "    \n",
    "    seg_wave_bytes = seg_wave_points\n",
    "\n",
    "#seg_wave_bytes = seg_wave_points * 2 # each waveform point is represented as uint16 (2 bytes in size)\n",
    "\n",
    "# Buffer size for Marker\n",
    "if dac_mode == 16 and freq <= 2500000000:\n",
    "    marker_cycle = 2\n",
    "    seg_mark_bytes = seg_wave_points // 4\n",
    "else:\n",
    "    marker_cycle = 8\n",
    "    seg_mark_bytes = seg_wave_points // 8\n",
    "\n",
    "# Build wave\n",
    "x = np.linspace(start=0, stop=seg_wave_points, num=seg_wave_points, endpoint=False)\n",
    "yw = np.fmod(x, cyclelen)\n",
    "yw = (yw <= cyclelen / 2) * max_dac\n",
    "yw = np.round(yw)\n",
    "yw = np.clip(yw, 0, max_dac)\n",
    "yw = yw.astype(data_type)\n",
    "\n",
    "yw.reshape(-1) # = yw.astype(data_type)\n",
    "\n",
    "   \n",
    "# Build marker  \n",
    "x = np.linspace(\n",
    "    start=0, stop=seg_mark_bytes, num=seg_mark_bytes, endpoint=False)\n",
    "y = np.fmod(x, seg_mark_bytes)\n",
    "y = (y <= seg_mark_bytes / 2) * 0x33\n",
    "y = np.round(y)\n",
    "y = np.clip(y, 0, 255)\n",
    "# y= np.ones(seg_mark_bytes,np.uint8) *0xFF\n",
    "mark = y\n",
    "\n",
    "mark = y.astype(np.uint8).reshape(-1)\n",
    "\n",
    "del x, y    \n",
    "print('Done')    "
   ]
  },
  {
   "cell_type": "markdown",
   "metadata": {},
   "source": [
    "## Download waveform data to segments"
   ]
  },
  {
   "cell_type": "code",
   "execution_count": 7,
   "metadata": {},
   "outputs": [
    {
     "name": "stdout",
     "output_type": "stream",
     "text": [
      "Download wave to segment 1 of channel 1\n",
      "Number of wave point:4096\n"
     ]
    }
   ],
   "source": [
    "# Download segments\n",
    "# channb = 1\n",
    "segnum = 1\n",
    "wav = yw\n",
    "mrk = mark\n",
    "\n",
    "print('Download wave to segment {0} of channel {1}'.format(segnum, channb))\n",
    "print('Number of wave point:{0}'.format(seg_wave_points))\n",
    "\n",
    "# Select channel\n",
    "inst.send_scpi_cmd( ':INST:CHAN {0}'.format(channb))\n",
    "\n",
    "# Define segment\n",
    "inst.send_scpi_cmd(  ':TRAC:DEF {0},{1}'.format(segnum, seg_wave_points))\n",
    "\n",
    "# Select the segment\n",
    "inst.send_scpi_cmd(':TRAC:SEL {0}'.format(segnum))\n",
    "\n",
    "# Increase the timeout before writing binary-data:\n",
    "inst.timeout = 30000\n",
    "\n",
    "# Send the binary-data with *OPC? added to the beginning of its prefix.\n",
    "#inst.write_binary_values('*OPC?; :TRAC:DATA', wav, datatype=wav_dat_type)\n",
    "inst.write_binary_data(':TRAC:DATA', wav)\n",
    "\n",
    "# Read the response to the *OPC? query that was added to the prefix of the binary data\n",
    "#resp = inst.read()\n",
    "# Set normal timeout\n",
    "inst.timeout = 10000\n",
    "resp = inst.send_scpi_query(':SYST:ERR?')\n",
    "resp = resp.rstrip()\n",
    "if not resp.startswith('0'):\n",
    "    print('ERROR: \"{0}\" after writing binary values'.format(resp))\n",
    "inst.send_scpi_cmd(':INST:CHAN 1')\n",
    "inst.send_scpi_cmd('FUNC:MODE ARB')\n",
    "# Play the specified segment at the selected channel\n",
    "inst.send_scpi_cmd( ':SOUR:FUNC:MODE:SEGM {0}'.format(segnum))\n",
    "\n",
    "resp = inst.send_scpi_cmd(':OUTP OFF')\n",
    "inst.send_scpi_cmd(':SOUR:VOLT 0.5')\n",
    "# Turn on the output of the selected channel:\n",
    "resp = inst.send_scpi_cmd(':OUTP ON')\n",
    "resp = inst.send_scpi_query(':SYST:ERR?')\n",
    "resp = resp.rstrip()\n",
    "if not resp.startswith('0'):\n",
    "    print('ERROR: \"{0}\" after writing binary values'.format(resp))"
   ]
  },
  {
   "cell_type": "markdown",
   "metadata": {},
   "source": [
    "## Download markers-data to segments \n"
   ]
  },
  {
   "cell_type": "code",
   "execution_count": 8,
   "metadata": {},
   "outputs": [
    {
     "name": "stdout",
     "output_type": "stream",
     "text": [
      "Download markers to segment 1 of channel 1\n"
     ]
    }
   ],
   "source": [
    "print('Download markers to segment {0} of channel {1}'.format(segnum, channb))\n",
    "\n",
    "# Increase the timeout before writing binary-data:\n",
    "inst.timeout = 30000\n",
    "\n",
    "# Send the binary-data with *OPC? added to the beginning of its prefix.\n",
    "inst.send_scpi_cmd( ':INST:CHAN {0}'.format(channb))\n",
    "inst.send_scpi_cmd( ':TRAC:SEL {0}'.format(segnum))\n",
    "inst.write_binary_data(':MARK:DATA',mark)\n",
    "inst.send_scpi_cmd(':MARK:SEL 1')\n",
    "inst.send_scpi_cmd(':MARK:STAT ON')\n",
    "# Read the response to the *OPC? query that was added to the prefix of the binary data\n",
    "#resp = inst.read()\n",
    "# Set normal timeout\n",
    "inst.timeout = 10000\n",
    "resp = inst.send_scpi_query(':SYST:ERR?')\n",
    "resp = resp.rstrip()\n",
    "if not resp.startswith('0'):\n",
    "    print('ERROR: \"{0}\" after writing binary values'.format(resp))\n"
   ]
  },
  {
   "cell_type": "code",
   "execution_count": 9,
   "metadata": {},
   "outputs": [
    {
     "data": {
      "image/png": "[encoded data removed]",
      "text/plain": [
       "<Figure size 640x480 with 2 Axes>"
      ]
     },
     "metadata": {},
     "output_type": "display_data"
    },
    {
     "name": "stdout",
     "output_type": "stream",
     "text": [
      "uint16\n"
     ]
    }
   ],
   "source": [
    "fig = plt.figure()\n",
    "plt1 = fig.add_subplot(211)\n",
    "plt2 = fig.add_subplot(212)\n",
    "plt1.plot(yw)\n",
    "plt1.set_title('Signal')\n",
    "plt2.plot(mark)\n",
    "plt2.set_title('Marker')\n",
    "fig.subplots_adjust(hspace=.4,wspace=0.5)\n",
    "plt.show()\n",
    "print( yw.dtype)"
   ]
  },
  {
   "cell_type": "markdown",
   "metadata": {},
   "source": [
    "## Play out marker's data"
   ]
  },
  {
   "cell_type": "code",
   "execution_count": 10,
   "metadata": {},
   "outputs": [
    {
     "data": {
      "text/plain": [
       "0"
      ]
     },
     "execution_count": 10,
     "metadata": {},
     "output_type": "execute_result"
    }
   ],
   "source": [
    "inst.send_scpi_cmd(':INST:CHAN {0}'.format(channb))\n",
    "inst.send_scpi_cmd(':SOUR:VOLT 0.5')\n",
    "inst.send_scpi_cmd(':SOUR:VOLT:OFFS 0')\n",
    "inst.send_scpi_cmd(':MARK:SEL 1')\n",
    "inst.send_scpi_cmd(':MARK:STAT ON')\n",
    "inst.send_scpi_cmd(':MARK:VOLT:PTOP 0.5')\n",
    "inst.send_scpi_cmd(':MARK:VOLT:OFFS 0')\n",
    "\n"
   ]
  },
  {
   "cell_type": "markdown",
   "metadata": {},
   "source": [
    "# marker rise time fall time"
   ]
  },
  {
   "cell_type": "code",
   "execution_count": 13,
   "metadata": {},
   "outputs": [
    {
     "name": "stdout",
     "output_type": "stream",
     "text": [
      "Connect Channel 1 Marker 1 to channel 1 and 2 of the oscilloscope\n",
      " Press enter \n",
      "\n",
      "Rise time :256.41ps\n",
      "TEST FAILED for rise time on channel 1 marker 1\n",
      "\n",
      "Fall time :9.99999e+49ps\n",
      "TEST FAILED for fall time on channel 1 marker 1\n",
      "Connect Channel 1 Marker 2 to channel 1 and 2 of the oscilloscope\n",
      " Press enter \n",
      "\n",
      "Rise time :234.01000000000002ps\n",
      "TEST FAILED for rise time on channel 1 marker 2\n",
      "\n",
      "Fall time :9.99999e+49ps\n",
      "TEST FAILED for fall time on channel 1 marker 2\n",
      "Connect Channel 2 Marker 1 to channel 1 and 2 of the oscilloscope\n",
      " Press enter \n",
      "\n",
      "Rise time :246.88ps\n",
      "TEST FAILED for rise time on channel 2 marker 1\n",
      "\n",
      "Fall time :9.99999e+49ps\n",
      "TEST FAILED for fall time on channel 2 marker 1\n",
      "Connect Channel 2 Marker 2 to channel 1 and 2 of the oscilloscope\n",
      " Press enter \n",
      "\n",
      "Rise time :245.42000000000002ps\n",
      "TEST FAILED for rise time on channel 2 marker 2\n",
      "\n",
      "Fall time :9.99999e+49ps\n",
      "TEST FAILED for fall time on channel 2 marker 2\n",
      "Connect Channel 3 Marker 1 to channel 1 and 2 of the oscilloscope\n",
      " Press enter \n",
      "\n",
      "Rise time :228.83ps\n",
      "TEST FAILED for rise time on channel 3 marker 1\n",
      "\n",
      "Fall time :9.99999e+49ps\n",
      "TEST FAILED for fall time on channel 3 marker 1\n",
      "Connect Channel 3 Marker 2 to channel 1 and 2 of the oscilloscope\n",
      " Press enter \n",
      "\n",
      "Rise time :233.22ps\n",
      "TEST FAILED for rise time on channel 3 marker 2\n",
      "\n",
      "Fall time :9.99999e+49ps\n",
      "TEST FAILED for fall time on channel 3 marker 2\n",
      "Connect Channel 4 Marker 1 to channel 1 and 2 of the oscilloscope\n",
      " Press enter \n",
      "\n",
      "Rise time :209.04000000000002ps\n",
      "TEST FAILED for rise time on channel 4 marker 1\n",
      "\n",
      "Fall time :9.99999e+49ps\n",
      "TEST FAILED for fall time on channel 4 marker 1\n",
      "Connect Channel 4 Marker 2 to channel 1 and 2 of the oscilloscope\n",
      " Press enter \n",
      "\n",
      "Rise time :238.85000000000002ps\n",
      "TEST FAILED for rise time on channel 4 marker 2\n",
      "\n",
      "Fall time :9.99999e+49ps\n",
      "TEST FAILED for fall time on channel 4 marker 2\n"
     ]
    }
   ],
   "source": [
    "test_success = True\n",
    "vertical_scale_per_divison = 0.062\n",
    "horizontal_scale_per_divison = 100e-12\n",
    "riseFall_time = 200e-12\n",
    "for i in range(4):\n",
    "    for mrker in range(2):\n",
    "        inst.send_scpi_cmd(':INST:CHAN {0}'.format(i+1))\n",
    "        inst.send_scpi_cmd(':MARK:SEL {}'.format(mrker+1))\n",
    "        channb = inst.send_scpi_query(':INST:CHAN?')\n",
    "        mrker = inst.send_scpi_query(':MARK:SEL?')\n",
    "        print('Connect Channel {0} Marker {1} to channel 1 and 2 of the oscilloscope\\n Press enter '.format(channb,mrker))\n",
    "        input()\n",
    "        inst.send_scpi_cmd(':MARK:STAT ON')\n",
    "        inst.send_scpi_cmd(':MARK:VOLT:PTOP 0.5')\n",
    "        inst.send_scpi_cmd(':MARK:VOLT:OFFS 0')\n",
    "        scope.write('*CLS;:DISPlay:CGRade:LEVels ')\n",
    "        scope.write('*RST;:CHAN1:DISP OFF')\n",
    "        scope.write(':CHAN{0}:DISP ON;:TIMebase:SCALe {1}'.format(mrkr_on_scope,horizontal_scale_per_divison))\n",
    "        scope.write(':CHAN{0}:SCAL {1};:CHAN{0}:INP DC50'.format(mrkr_on_scope,vertical_scale_per_divison))\n",
    "        #scope.write('*RST;:CHAN{0}:DISP ON;'.format(channel_on_scope,scope_time_scale))\n",
    "        #scope.write('*RST;:CHAN{0}:DISP ON;:TIMebase:SCALe {1}'.format(channel_on_scope,horizontal_scale_per_divison))\n",
    "        #scope.write('*RST;:CHAN{0}:DISP ON;:TIMebase:POS 1e-9'.format(channb,scope_time_scale))\n",
    "        #[<source>[,<start_level>,<stop_level>]]\n",
    "        time.sleep(1)\n",
    "        scope.write(':MEASure:RISetime CHANnel{0},20,80'.format(mrkr_on_scope))\n",
    "        time.sleep(2)\n",
    "        scope.write(':MEASure:RESults?')\n",
    "        result = scope.read()\n",
    "        rise_time_temp= float(result.split(',')[1])\n",
    "        print(\"Rise time :{}ps\".format(rise_time_temp/1e-12))\n",
    "        if rise_time_temp>riseFall_time:\n",
    "            print(\"TEST FAILED for rise time on channel {} marker {}\".format(channb,mrker))\n",
    "        else:\n",
    "            print(\"TEST PASSED for rise time on channel {} marker {}\".format(channb,mrker))\n",
    "        "
   ]
  },
  {
   "cell_type": "code",
   "execution_count": null,
   "metadata": {},
   "outputs": [],
   "source": [
    "\n",
    "disconnect()\n",
    "scope.close()\n",
    "# close connection\n",
    "inst.close_instrument()"
   ]
  },
  {
   "cell_type": "code",
   "execution_count": null,
   "metadata": {},
   "outputs": [],
   "source": []
  }
 ],
 "metadata": {
  "kernelspec": {
   "display_name": "Python 3 (ipykernel)",
   "language": "python",
   "name": "python3"
  },
  "language_info": {
   "codemirror_mode": {
    "name": "ipython",
    "version": 3
   },
   "file_extension": ".py",
   "mimetype": "text/x-python",
   "name": "python",
   "nbconvert_exporter": "python",
   "pygments_lexer": "ipython3",
   "version": "3.10.9"
  }
 },
 "nbformat": 4,
 "nbformat_minor": 4
}
