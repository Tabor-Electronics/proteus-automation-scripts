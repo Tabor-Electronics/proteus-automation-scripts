{
 "cells": [
  {
   "cell_type": "markdown",
   "id": "5e20435a",
   "metadata": {},
   "source": [
    "# NCO mode phase test"
   ]
  },
  {
   "cell_type": "markdown",
   "id": "acd489f8",
   "metadata": {},
   "source": [
    "# Test Description\n",
    "This script will test the phase change of NCO single mode.\n",
    "The NCO mode internally generated a sine wave with the frequency and phase.\n",
    "1) In this script test the CFR functionality for multiple sampling rate from 1GHz to 9GHz on step of 1GHz and multiple CFR from 100MHz to 9GHz on a step on 500MHz for all channels of the proteus module.\n",
    "\n",
    "# Test Equipment\n",
    "1. Tabor's Proteus 9484M\n",
    "2. Keysight's Oscilloscope MSO9254A\n",
    "3. 4 SMA to BNC Cable\n",
    "\n",
    "\n",
    "# Hardware Connection\n",
    "\n",
    "    Proteus Module    --->     Oscilloscope\n",
    "    \n",
    "    Channel 1         --->      Channel 1\n",
    "    Channel 2         --->      Channel 2\n",
    "    Channel 3         --->      Channel 3\n",
    "    Channel 4         --->      Channel 4\n",
    "   \n",
    "\n",
    "# Test Procedure\n",
    "1. Connect all the channels of Proteus module with the respective channel of oscilloscope.\n",
    "2. Run the script and observe output on scope.\n",
    "\n",
    "Proteus release- Aurora"
   ]
  },
  {
   "cell_type": "code",
   "execution_count": 1,
   "id": "7fcd4431",
   "metadata": {},
   "outputs": [],
   "source": [
    "ip_address = '192.90.70.22'\n",
    "channb =1"
   ]
  },
  {
   "cell_type": "code",
   "execution_count": 2,
   "id": "ef092e8b",
   "metadata": {},
   "outputs": [],
   "source": [
    "## Import required Libraries\n",
    "import os\n",
    "import sys\n",
    "import tempfile\n",
    "import webbrowser\n",
    "srcpath = os.path.realpath('SourceFiles')\n",
    "sys.path.append(srcpath)\n",
    "from teproteus import TEProteusAdmin as TepAdmin\n",
    "from teproteus import TEProteusInst as TepInst\n",
    "from teproteus_functions_v3 import connect\n",
    "from teproteus_functions_v3 import disconnect\n",
    "from teproteus_functions_v3 import set_lib_dir_path\n",
    "from teproteus_functions_v3 import get_cpatured_header\n",
    "from teproteus_functions_v3 import gauss_env\n",
    "from teproteus_functions_v3 import iq_kernel\n",
    "from teproteus_functions_v3 import pack_kernel_data\n",
    "from teproteus import TEProteusAdmin, TEProteusInst\n",
    "from tevisainst import TEVisaInst\n",
    "# matplotlib notebook\n",
    "import numpy as np\n",
    "import time\n",
    "import ipywidgets as widgets\n",
    "from IPython.core.debugger import set_trace\n",
    "from scipy.signal import chirp, sweep_poly\n",
    "import matplotlib.pyplot as plt\n",
    "\n",
    "plt.style.use('ggplot')\n",
    "from scipy import signal\n",
    "import math\n",
    "import pdb\n",
    "\n",
    "import pyvisa as visa\n",
    "from pyvisa.errors import Error"
   ]
  },
  {
   "cell_type": "markdown",
   "id": "834b1c64",
   "metadata": {},
   "source": [
    "# Instrument connection"
   ]
  },
  {
   "cell_type": "code",
   "execution_count": 3,
   "id": "75c59c3f",
   "metadata": {},
   "outputs": [
    {
     "name": "stdout",
     "output_type": "stream",
     "text": [
      "Service connect\n",
      "Trying to connect to IP:192.90.70.22\n",
      "Tabor Electronics,P9484M,000002232771,1.238.6 --Tabor Electronics,P9484M,000000000000,1.238.6 --slot#: 2, slot#: 4, \n",
      "Model: P9484M \n",
      "DAC 8 bits\n"
     ]
    }
   ],
   "source": [
    "# Connect to instrument\n",
    "inst = connect(ip_address)\n",
    "# Get the instrument's *IDN\n",
    "resp = inst.send_scpi_query('*IDN?')\n",
    "print(resp)\n",
    "\n",
    "# Get the model:\n",
    "model_name = inst.send_scpi_query('SYST:INF:MODel?')\n",
    "print('Model: {0} '.format(model_name))\n",
    "\n",
    "# Get number of channels\n",
    "resp = inst.send_scpi_query(\":INST:CHAN? MAX\")\n",
    "#print(\"Number of channels: \" + resp)\n",
    "num_channels = int(resp)\n",
    "\n",
    "# Get the DAC mode (8 bits or 16 bits)\n",
    "resp = inst.send_scpi_query(':SYST:INF:DAC?')\n",
    "if resp == 'M0':\n",
    "    dac_mode = 16\n",
    "else:\n",
    "    dac_mode = 8\n",
    "\n",
    "print('DAC {0} bits'.format(dac_mode))\n",
    "\n",
    "if dac_mode == 16:\n",
    "    max_dac = 65535\n",
    "    data_type = np.uint16 \n",
    "else:\n",
    "    max_dac = 255\n",
    "    data_type = np.uint8 \n",
    "    \n",
    "half_dac = max_dac / 2.0\n",
    "\n",
    "# Several initializations ..\n",
    "inst.send_scpi_cmd('*CLS; *RST')\n",
    "inst.send_scpi_cmd(':INST:CHAN 1')\n",
    "inst.send_scpi_cmd(':TRAC:DEL:ALL')\n",
    "resp = inst.send_scpi_query(':SYST:ERR?')\n",
    "resp = resp.rstrip()\n",
    "if not resp.startswith('0'):\n",
    "    print('ERROR: \"{0}\" after writing binary values'.format(resp))"
   ]
  },
  {
   "cell_type": "markdown",
   "id": "5acbbc40",
   "metadata": {},
   "source": [
    "# Oscillocope connection"
   ]
  },
  {
   "cell_type": "code",
   "execution_count": 4,
   "id": "23c55ca2",
   "metadata": {},
   "outputs": [
    {
     "name": "stdout",
     "output_type": "stream",
     "text": [
      "*IDN? returned: KEYSIGHT TECHNOLOGIES,MSO9254A,MY55490134,06.40.01101\n"
     ]
    }
   ],
   "source": [
    "scope_addr2= 'USB0::0x2A8D::0x900E::MY55490134::INSTR'\n",
    "# connect to scope via USB\n",
    "try:\n",
    "    resourceManager = visa.ResourceManager()   # Create a connection (session) to the instrument\n",
    "    scope = resourceManager.open_resource(scope_addr2)\n",
    "except visa.Error as ex2:\n",
    "        print('Couldn\\'t connect to \\'%s\\', exiting now...' % scope_addr2)\n",
    "        sys.exit()\n",
    "    ## scope acquisition \n",
    "# Send *IDN? and read the response\n",
    "scope.write('*RST?')\n",
    "scope.write('*IDN?')\n",
    "idn = scope.read()\n",
    "print('*IDN? returned: %s' % idn.rstrip('\\n'))"
   ]
  },
  {
   "cell_type": "markdown",
   "id": "ac99d350",
   "metadata": {},
   "source": [
    "# Phase test"
   ]
  },
  {
   "cell_type": "code",
   "execution_count": 11,
   "id": "e77f26f4",
   "metadata": {},
   "outputs": [
    {
     "name": "stdout",
     "output_type": "stream",
     "text": [
      "Initial Phase :5.87 degree\n"
     ]
    }
   ],
   "source": [
    "test_success = True\n",
    "sampling_rate = 5000\n",
    "inst.send_scpi_cmd(':SOUR:FREQ {}e6'.format(sampling_rate))\n",
    "inst.send_scpi_cmd(':INST:CHAN 1')\n",
    "inst.send_scpi_cmd(':MODE NCO')\n",
    "inst.send_scpi_cmd(':NCO:MODE:SING')\n",
    "inst.send_scpi_cmd(':NCO:CFR1 200e6')\n",
    "inst.send_scpi_cmd(':NCO:PHAS1 0')\n",
    "inst.send_scpi_cmd(':VOLT 0.5')\n",
    "#inst.send_scpi_cmd(':NCO:SIXD1 ON')\n",
    "inst.send_scpi_cmd(':OUTP ON')\n",
    "inst.send_scpi_cmd(':INST:CHAN 3')\n",
    "inst.send_scpi_cmd(':MODE NCO')\n",
    "inst.send_scpi_cmd(':NCO:MODE:SING')\n",
    "inst.send_scpi_cmd(':NCO:CFR1 200e6')\n",
    "inst.send_scpi_cmd(':NCO:PHAS1 0')\n",
    "inst.send_scpi_cmd(':VOLT 0.5')\n",
    "#inst.send_scpi_cmd(':NCO:SIXD1 ON')\n",
    "inst.send_scpi_cmd(':OUTP ON')\n",
    "scope.write('AUTOscale')\n",
    "time.sleep(5)\n",
    "scope.write(':MEASure:PHASe CHANnel3,CHANnel1')\n",
    "time.sleep(5)\n",
    "scope.write(':MEASure:RESults?')\n",
    "result = scope.read()\n",
    "initial_phase = float(result.split(',')[1])\n",
    "print('Initial Phase :{} degree'.format(initial_phase))"
   ]
  },
  {
   "cell_type": "code",
   "execution_count": 7,
   "id": "5643aa79",
   "metadata": {},
   "outputs": [
    {
     "name": "stdout",
     "output_type": "stream",
     "text": [
      "Phase :-6.24 degree\n",
      "difference :  8.92\n",
      "Test pass for phase difference 0 degree\n",
      "Phase :-35.91 degree\n",
      "difference :  68.59\n",
      "Test FAIL for phase difference 30 degree\n",
      "Phase :-64.16 degree\n",
      "difference :  126.84\n",
      "Test FAIL for phase difference 60 degree\n",
      "Phase :-96.1 degree\n",
      "difference :  188.78\n",
      "Test FAIL for phase difference 90 degree\n",
      "Phase :-124.8 degree\n",
      "difference :  247.48000000000002\n",
      "Test FAIL for phase difference 120 degree\n",
      "Phase :-155.55 degree\n",
      "difference :  308.23\n",
      "Test FAIL for phase difference 150 degree\n",
      "Phase :-184.0 degree\n",
      "difference :  366.68\n",
      "Test FAIL for phase difference 180 degree\n",
      "Phase :143.7 degree\n",
      "difference :  68.98000000000002\n",
      "Test FAIL for phase difference 210 degree\n",
      "Phase :114.58 degree\n",
      "difference :  128.10000000000002\n",
      "Test FAIL for phase difference 240 degree\n",
      "Phase :83.97 degree\n",
      "difference :  188.71\n",
      "Test FAIL for phase difference 270 degree\n",
      "Phase :52.95 degree\n",
      "difference :  249.73000000000002\n",
      "Test FAIL for phase difference 300 degree\n",
      "Phase :25.6 degree\n",
      "difference :  307.08\n",
      "Test FAIL for phase difference 330 degree\n",
      "test failed for phase test \n"
     ]
    }
   ],
   "source": [
    "for in_phase in np.arange(0,360,30):\n",
    "    inst.send_scpi_cmd(':INST:CHAN {}'.format(channb))\n",
    "    inst.send_scpi_cmd(':SOUR:FREQ {}e6'.format(sampling_rate))\n",
    "    inst.send_scpi_cmd(':MODE NCO')\n",
    "    resp = inst.send_scpi_query(':MODE?')\n",
    "    #print('source mode', resp, 'selected')\n",
    "    #NCO mode , nco frequency and NCO phase\n",
    "    inst.send_scpi_cmd(':NCO:MODE SING')\n",
    "    resp = inst.send_scpi_query(\":NCO:MODE?\") #To check mode\n",
    "    #print('MODE:',resp)\n",
    "    inst.send_scpi_cmd(':NCO:CFR1 200e6')\n",
    "    inst.send_scpi_cmd(':NCO:PHAS1 {0}'.format(in_phase))\n",
    "    phase_change = inst.send_scpi_query(\":NCO:PHAS1?\") #To check phase \n",
    "    #print(\"Phase:{}\".format(phase_change))\n",
    "    inst.send_scpi_cmd(':VOLT 0.5')\n",
    "    #inst.send_scpi_cmd(':NCO:SIXD1 ON')\n",
    "    inst.send_scpi_cmd(':OUTP ON')\n",
    "    scope.write('AUTOscale')\n",
    "    time.sleep(5)\n",
    "    scope.write('*OPC')\n",
    "    scope.write('*CLS;:DISPlay:CGRade:LEVels')\n",
    "    scope.write(':MEASure:CLEar')\n",
    "    scope.write(':MEASure:PHASe CHANnel3,CHANnel1')\n",
    "    time.sleep(2)\n",
    "    scope.write(':MEASure:RESults?')\n",
    "    result = scope.read()\n",
    "    phase = float(result.split(',')[2])\n",
    "    print('Phase :{} degree'.format(phase))\n",
    "    #initial_phase =0\n",
    "    difference = abs((initial_phase+in_phase)-phase)\n",
    "    \n",
    "    print('difference : ',difference)\n",
    "    if difference < 10:\n",
    "        print(\"Test pass for phase difference {} degree\".format(in_phase))\n",
    "    else:\n",
    "        print(\"Test FAIL for phase difference {} degree\".format(in_phase))\n",
    "        test_success = False\n",
    "    \n",
    "        \n",
    "if (test_success):\n",
    "    print('test successed for phase test ')\n",
    "else:\n",
    "    print('test failed for phase test ')"
   ]
  },
  {
   "cell_type": "markdown",
   "id": "7188e41b",
   "metadata": {},
   "source": [
    "# Disconnect"
   ]
  },
  {
   "cell_type": "code",
   "execution_count": null,
   "id": "827ae1d4",
   "metadata": {},
   "outputs": [],
   "source": [
    "disconnect()\n",
    "print('Disconnected')"
   ]
  },
  {
   "cell_type": "code",
   "execution_count": null,
   "id": "3d3525f6",
   "metadata": {},
   "outputs": [],
   "source": []
  }
 ],
 "metadata": {
  "kernelspec": {
   "display_name": "Python 3 (ipykernel)",
   "language": "python",
   "name": "python3"
  },
  "language_info": {
   "codemirror_mode": {
    "name": "ipython",
    "version": 3
   },
   "file_extension": ".py",
   "mimetype": "text/x-python",
   "name": "python",
   "nbconvert_exporter": "python",
   "pygments_lexer": "ipython3",
   "version": "3.9.13"
  }
 },
 "nbformat": 4,
 "nbformat_minor": 5
}
