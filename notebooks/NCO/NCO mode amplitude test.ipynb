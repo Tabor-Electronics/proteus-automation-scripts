{
 "cells": [
  {
   "cell_type": "markdown",
   "id": "11300491",
   "metadata": {},
   "source": [
    "# NCO mode amplitude test"
   ]
  },
  {
   "cell_type": "markdown",
   "id": "c8355f11",
   "metadata": {},
   "source": [
    "# Test Description\n",
    "This script will test the amplitude for waveform in NCO single mode.\n",
    "The NCO mode internally generated a sine wave with the frequency and phase.\n",
    "1) In this script test the amplitude accuracy CFR of 400MHz at sampling rate 2500MHz for all channels of the proteus module.\n",
    "\n",
    "# Test Equipment\n",
    "1. Tabor Proteus 9484M\n",
    "2. Keysight Oscilloscope MSO9254A\n",
    "3. 4 SMA to BNC Cable\n",
    "\n",
    "\n",
    "# Hardware Connection\n",
    "\n",
    "    Proteus Module    --->     Oscilloscope\n",
    "    \n",
    "    Channel 1         --->      Channel 1\n",
    "    Channel 2         --->      Channel 2\n",
    "    Channel 3         --->      Channel 3\n",
    "    Channel 4         --->      Channel 4\n",
    "   \n",
    "\n",
    "# Test Procedure\n",
    "1. Connect all the channels of Proteus module with the respective channel of oscilloscope.\n",
    "2. Run the script and observe output on scope.\n",
    "\n",
    "Proteus release- Aurora"
   ]
  },
  {
   "cell_type": "code",
   "execution_count": 1,
   "id": "7fcd4431",
   "metadata": {},
   "outputs": [],
   "source": [
    "ip_address = '192.90.70.22'\n",
    "channb =1"
   ]
  },
  {
   "cell_type": "code",
   "execution_count": 2,
   "id": "ef092e8b",
   "metadata": {},
   "outputs": [],
   "source": [
    "## Import required Libraries\n",
    "import os\n",
    "import sys\n",
    "import tempfile\n",
    "import webbrowser\n",
    "srcpath = os.path.realpath('SourceFiles')\n",
    "sys.path.append(srcpath)\n",
    "from teproteus import TEProteusAdmin as TepAdmin\n",
    "from teproteus import TEProteusInst as TepInst\n",
    "from teproteus_functions_v3 import connect\n",
    "from teproteus_functions_v3 import disconnect\n",
    "from teproteus_functions_v3 import set_lib_dir_path\n",
    "from teproteus_functions_v3 import get_cpatured_header\n",
    "from teproteus_functions_v3 import gauss_env\n",
    "from teproteus_functions_v3 import iq_kernel\n",
    "from teproteus_functions_v3 import pack_kernel_data\n",
    "from teproteus import TEProteusAdmin, TEProteusInst\n",
    "from tevisainst import TEVisaInst\n",
    "# matplotlib notebook\n",
    "import numpy as np\n",
    "import time\n",
    "import ipywidgets as widgets\n",
    "from IPython.core.debugger import set_trace\n",
    "from scipy.signal import chirp, sweep_poly\n",
    "import matplotlib.pyplot as plt\n",
    "\n",
    "plt.style.use('ggplot')\n",
    "from scipy import signal\n",
    "import math\n",
    "import pdb\n",
    "\n",
    "import pyvisa as visa\n",
    "from pyvisa.errors import Error"
   ]
  },
  {
   "cell_type": "markdown",
   "id": "834b1c64",
   "metadata": {},
   "source": [
    "# Instrument connection"
   ]
  },
  {
   "cell_type": "code",
   "execution_count": 3,
   "id": "75c59c3f",
   "metadata": {},
   "outputs": [
    {
     "name": "stdout",
     "output_type": "stream",
     "text": [
      "Service connect\n",
      "Trying to connect to IP:192.90.70.22\n",
      "Tabor Electronics,P9484M,000002232771,1.238.6 --Tabor Electronics,P9484M,000000000000,1.238.6 --slot#: 2, slot#: 4, \n",
      "Model: P9484M \n",
      "DAC 16 bits\n"
     ]
    }
   ],
   "source": [
    "# Connect to instrument\n",
    "inst = connect(ip_address)\n",
    "# Get the instrument's *IDN\n",
    "resp = inst.send_scpi_query('*IDN?')\n",
    "print(resp)\n",
    "\n",
    "# Get the model:\n",
    "model_name = inst.send_scpi_query('SYST:INF:MODel?')\n",
    "print('Model: {0} '.format(model_name))\n",
    "\n",
    "# Get number of channels\n",
    "resp = inst.send_scpi_query(\":INST:CHAN? MAX\")\n",
    "#print(\"Number of channels: \" + resp)\n",
    "num_channels = int(resp)\n",
    "\n",
    "# Get the DAC mode (8 bits or 16 bits)\n",
    "resp = inst.send_scpi_query(':SYST:INF:DAC?')\n",
    "if resp == 'M0':\n",
    "    dac_mode = 16\n",
    "else:\n",
    "    dac_mode = 8\n",
    "\n",
    "print('DAC {0} bits'.format(dac_mode))\n",
    "\n",
    "if dac_mode == 16:\n",
    "    max_dac = 65535\n",
    "    data_type = np.uint16 \n",
    "else:\n",
    "    max_dac = 255\n",
    "    data_type = np.uint8 \n",
    "    \n",
    "half_dac = max_dac / 2.0\n",
    "\n",
    "# Several initializations ..\n",
    "inst.send_scpi_cmd('*CLS; *RST')\n",
    "inst.send_scpi_cmd(':INST:CHAN 1')\n",
    "inst.send_scpi_cmd(':TRAC:DEL:ALL')\n",
    "resp = inst.send_scpi_query(':SYST:ERR?')\n",
    "resp = resp.rstrip()\n",
    "if not resp.startswith('0'):\n",
    "    print('ERROR: \"{0}\" after writing binary values'.format(resp))"
   ]
  },
  {
   "cell_type": "markdown",
   "id": "5acbbc40",
   "metadata": {},
   "source": [
    "# Oscillocope connection"
   ]
  },
  {
   "cell_type": "code",
   "execution_count": 4,
   "id": "23c55ca2",
   "metadata": {},
   "outputs": [
    {
     "name": "stdout",
     "output_type": "stream",
     "text": [
      "*IDN? returned: KEYSIGHT TECHNOLOGIES,MSO9254A,MY55490134,06.40.01101\n"
     ]
    }
   ],
   "source": [
    "scope_addr2= 'USB0::0x2A8D::0x900E::MY55490134::INSTR'\n",
    "# connect to scope via USB\n",
    "try:\n",
    "    resourceManager = visa.ResourceManager()   # Create a connection (session) to the instrument\n",
    "    scope = resourceManager.open_resource(scope_addr2)\n",
    "except visa.Error as ex2:\n",
    "        print('Couldn\\'t connect to \\'%s\\', exiting now...' % scope_addr2)\n",
    "        sys.exit()\n",
    "    ## scope acquisition \n",
    "# Send *IDN? and read the response\n",
    "scope.write('*RST?')\n",
    "scope.write('*IDN?')\n",
    "idn = scope.read()\n",
    "print('*IDN? returned: %s' % idn.rstrip('\\n'))"
   ]
  },
  {
   "cell_type": "markdown",
   "id": "48ae084d",
   "metadata": {},
   "source": [
    "# Amplitude test "
   ]
  },
  {
   "cell_type": "code",
   "execution_count": 13,
   "id": "66cb78c3",
   "metadata": {},
   "outputs": [
    {
     "name": "stdout",
     "output_type": "stream",
     "text": [
      "Test begin for channel 1 for CFR=400.0MHz at sampling rate 1000.0MHz\n",
      "Test pass for 0.5V \n",
      "Test pass for 0.4V \n",
      "Test pass for 0.3V \n",
      "Test pass for 0.25V \n",
      "Test pass for 0.1V \n",
      "Test pass for 0.05V \n",
      "Test begin for channel 2 for CFR=400.0MHz at sampling rate 1000.0MHz\n",
      "Test pass for 0.5V \n",
      "Test FAIL for 0.4V\n",
      "Test FAIL for 0.3V\n",
      "Test FAIL for 0.25V\n",
      "Test pass for 0.1V \n",
      "Test pass for 0.05V \n",
      "Test begin for channel 3 for CFR=400.0MHz at sampling rate 1000.0MHz\n",
      "Test pass for 0.5V \n",
      "Test pass for 0.4V \n",
      "Test pass for 0.3V \n",
      "Test pass for 0.25V \n",
      "Test pass for 0.1V \n",
      "Test pass for 0.05V \n",
      "Test begin for channel 4 for CFR=400.0MHz at sampling rate 1000.0MHz\n",
      "Test pass for 0.5V \n",
      "Test pass for 0.4V \n",
      "Test pass for 0.3V \n",
      "Test pass for 0.25V \n",
      "Test pass for 0.1V \n",
      "Test pass for 0.05V \n",
      "test failed for amplitude\n"
     ]
    }
   ],
   "source": [
    "test_success = True\n",
    "sampling_rate = 2500\n",
    "cfreq = 400e6\n",
    "volt = [0.5,0.4,0.3,0.25,0.1,0.05]\n",
    "for channb in np.arange(1,5,1): #loop for all cahnnels\n",
    "    \n",
    "    inst.send_scpi_cmd(':INST:CHAN {}'.format(channb))\n",
    "    channel = inst.send_scpi_query(':INST:CHAN?')\n",
    "    samp_freq = inst.send_scpi_query(':SOUR:FREQ?')\n",
    "    inst.send_scpi_cmd(':SOUR:FREQ {}'.format(sampling_rate))\n",
    "    print('Test begin for channel {0} for CFR={1}MHz at sampling rate {2}MHz'.format(channel,float(cfreq)/1e6,float(samp_freq)/1e6))\n",
    "    for in_volt in range(len(volt)):\n",
    "        in_phase = 0\n",
    "        inst.send_scpi_cmd(':INST:CHAN {}'.format(channb))\n",
    "        inst.send_scpi_cmd(':MODE NCO')\n",
    "        resp = inst.send_scpi_query(':MODE?')\n",
    "        #print('source mode', resp, 'selected')\n",
    "        #NCO mode , nco frequency and NCO phase\n",
    "        inst.send_scpi_cmd(':NCO:MODE SING')\n",
    "        resp = inst.send_scpi_query(\":NCO:MODE?\") #To check mode\n",
    "        #print('MODE:',resp)\n",
    "        inst.send_scpi_cmd(':NCO:CFR1 {}'.format(cfreq))\n",
    "        inst.send_scpi_cmd(':NCO:PHAS1 0')\n",
    "        inst.send_scpi_cmd(':VOLT {}'.format(volt[in_volt]))\n",
    "        #inst.send_scpi_cmd(':NCO:SIXD1 ON')\n",
    "        inst.send_scpi_cmd(':OUTP ON')\n",
    "        #scope.write('AUTOscale')\n",
    "        scope.write(':CHANnel{}:DISPlay ON'.format(channb))\n",
    "        time.sleep(5)\n",
    "        \n",
    "        scope.write('*OPC')\n",
    "        scope.write('*CLS;:DISPlay:CGRade:LEVels')\n",
    "        scope.write(':MEASure:CLEar')\n",
    "        scope.write(':CHANnel{}:SCALe 100E-3'.format(channb))\n",
    "        scope.write(':TIMebase:SCALe 2E-9')\n",
    "        scope.write(':MEASure:VPP CHANnel{}'.format(channb))\n",
    "        time.sleep(2)\n",
    "        scope.write(':MEASure:RESults?')\n",
    "        result = scope.read()\n",
    "        vpp_ch1 = float(result.split(',')[2])\n",
    "        #print('Peak peak voltage on Channel : ',vpp_ch1)\n",
    "    #     scope.write('*CLS;:DISPlay:CGRade:LEVels')\n",
    "    #     scope.write(':MEASure:CLEar')\n",
    "    #     scope.write(':MEASure:FREQuency CHANnel1')\n",
    "    #     time.sleep(1)\n",
    "    #     scope.write(':MEASure:RESults?')\n",
    "    #     result = scope.read()\n",
    "    #     frequency = float(result.split(',')[2])\n",
    "    #     print('Frequency : {}MHz'.format(frequency/1e6))\n",
    "    #     print(\"Ocsilloscope frequency should {}MHz\".format(cfreq))\n",
    "        difference =abs(vpp_ch1-volt[in_volt])\n",
    "        #print('Difference between measured voltage = {}'.format(difference))\n",
    "        if difference < (0.051):\n",
    "            print('\\tTest pass for {}V '.format(volt[in_volt]))\n",
    "        else:\n",
    "            print('\\tTest FAIL for {}V'.format(volt[in_volt]))\n",
    "            test_success = False\n",
    "        scope.write(':CHANnel{}:DISPlay OFF'.format(channb))\n",
    "    #input()\n",
    "if (test_success):\n",
    "    print('test successed for amplitude')\n",
    "else:\n",
    "    print('test failed for amplitude')"
   ]
  },
  {
   "cell_type": "markdown",
   "id": "7188e41b",
   "metadata": {},
   "source": [
    "# Disconnect"
   ]
  },
  {
   "cell_type": "code",
   "execution_count": null,
   "id": "827ae1d4",
   "metadata": {},
   "outputs": [],
   "source": [
    "disconnect()\n",
    "scope.close()\n",
    "print('Disconnected')"
   ]
  },
  {
   "cell_type": "code",
   "execution_count": null,
   "id": "3d3525f6",
   "metadata": {},
   "outputs": [],
   "source": []
  }
 ],
 "metadata": {
  "kernelspec": {
   "display_name": "Python 3 (ipykernel)",
   "language": "python",
   "name": "python3"
  },
  "language_info": {
   "codemirror_mode": {
    "name": "ipython",
    "version": 3
   },
   "file_extension": ".py",
   "mimetype": "text/x-python",
   "name": "python",
   "nbconvert_exporter": "python",
   "pygments_lexer": "ipython3",
   "version": "3.9.13"
  }
 },
 "nbformat": 4,
 "nbformat_minor": 5
}
