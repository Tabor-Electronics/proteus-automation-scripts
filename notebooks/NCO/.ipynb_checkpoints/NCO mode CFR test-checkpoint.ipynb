{
 "cells": [
  {
   "cell_type": "markdown",
   "id": "e9611786",
   "metadata": {},
   "source": [
    "# NCO mode CFR test"
   ]
  },
  {
   "cell_type": "markdown",
   "id": "b4efb60e",
   "metadata": {},
   "source": [
    "# Test Description\n",
    "This script will test the functionality of NCO single mode.\n",
    "The NCO mode internally generated a sine wave with the frequency and phase.\n",
    "1) In this script test the CFR functionality for multiple sampling rate from 1GHz to 9GHz on step of 1GHz and multiple CFR from 100MHz to 9GHz on a step on 500MHz for all channels of the proteus module.\n",
    "\n",
    "# Test Equipment\n",
    "1. Tabor's Proteus 9484M\n",
    "2. Keysight's Oscilloscope MSO9254A\n",
    "3. 4 SMA to BNC Cable\n",
    "\n",
    "\n",
    "# Hardware Connection\n",
    "\n",
    "    Proteus Module    --->     Oscilloscope\n",
    "    \n",
    "    Channel 1         --->      Channel 1\n",
    "    Channel 2         --->      Channel 2\n",
    "    Channel 3         --->      Channel 3\n",
    "    Channel 4         --->      Channel 4\n",
    "   \n",
    "\n",
    "# Test Procedure\n",
    "1. Connect all the channels of Proteus module with the respective channel of oscilloscope.\n",
    "2. Run the script and observe output on scope.\n",
    "\n",
    "Proteus release- Aurora"
   ]
  },
  {
   "cell_type": "code",
   "execution_count": null,
   "id": "7fcd4431",
   "metadata": {},
   "outputs": [],
   "source": [
    "ip_address = '192.90.70.22'\n",
    "channb =1"
   ]
  },
  {
   "cell_type": "code",
   "execution_count": null,
   "id": "ef092e8b",
   "metadata": {},
   "outputs": [],
   "source": [
    "## Import required Libraries\n",
    "import os\n",
    "import sys\n",
    "import tempfile\n",
    "import webbrowser\n",
    "srcpath = os.path.realpath('SourceFiles')\n",
    "sys.path.append(srcpath)\n",
    "from teproteus import TEProteusAdmin as TepAdmin\n",
    "from teproteus import TEProteusInst as TepInst\n",
    "from teproteus_functions_v3 import connect\n",
    "from teproteus_functions_v3 import disconnect\n",
    "from teproteus_functions_v3 import set_lib_dir_path\n",
    "from teproteus_functions_v3 import get_cpatured_header\n",
    "from teproteus_functions_v3 import gauss_env\n",
    "from teproteus_functions_v3 import iq_kernel\n",
    "from teproteus_functions_v3 import pack_kernel_data\n",
    "from teproteus import TEProteusAdmin, TEProteusInst\n",
    "from tevisainst import TEVisaInst\n",
    "# matplotlib notebook\n",
    "import numpy as np\n",
    "import time\n",
    "import ipywidgets as widgets\n",
    "from IPython.core.debugger import set_trace\n",
    "from scipy.signal import chirp, sweep_poly\n",
    "import matplotlib.pyplot as plt\n",
    "\n",
    "plt.style.use('ggplot')\n",
    "from scipy import signal\n",
    "import math\n",
    "import pdb\n",
    "\n",
    "import pyvisa as visa\n",
    "from pyvisa.errors import Error"
   ]
  },
  {
   "cell_type": "markdown",
   "id": "834b1c64",
   "metadata": {},
   "source": [
    "# Instrument connection"
   ]
  },
  {
   "cell_type": "code",
   "execution_count": null,
   "id": "75c59c3f",
   "metadata": {},
   "outputs": [],
   "source": [
    "# Connect to instrument\n",
    "inst = connect(ip_address)\n",
    "# Get the instrument's *IDN\n",
    "resp = inst.send_scpi_query('*IDN?')\n",
    "print(resp)\n",
    "\n",
    "# Get the model:\n",
    "model_name = inst.send_scpi_query('SYST:INF:MODel?')\n",
    "print('Model: {0} '.format(model_name))\n",
    "\n",
    "# Get number of channels\n",
    "resp = inst.send_scpi_query(\":INST:CHAN? MAX\")\n",
    "#print(\"Number of channels: \" + resp)\n",
    "num_channels = int(resp)\n",
    "\n",
    "# Get the DAC mode (8 bits or 16 bits)\n",
    "resp = inst.send_scpi_query(':SYST:INF:DAC?')\n",
    "if resp == 'M0':\n",
    "    dac_mode = 16\n",
    "else:\n",
    "    dac_mode = 8\n",
    "\n",
    "print('DAC {0} bits'.format(dac_mode))\n",
    "\n",
    "if dac_mode == 16:\n",
    "    max_dac = 65535\n",
    "    data_type = np.uint16 \n",
    "else:\n",
    "    max_dac = 255\n",
    "    data_type = np.uint8 \n",
    "    \n",
    "half_dac = max_dac / 2.0\n",
    "\n",
    "# Several initializations ..\n",
    "inst.send_scpi_cmd('*CLS; *RST')\n",
    "inst.send_scpi_cmd(':INST:CHAN 1')\n",
    "inst.send_scpi_cmd(':TRAC:DEL:ALL')\n",
    "resp = inst.send_scpi_query(':SYST:ERR?')\n",
    "resp = resp.rstrip()\n",
    "if not resp.startswith('0'):\n",
    "    print('ERROR: \"{0}\" after writing binary values'.format(resp))"
   ]
  },
  {
   "cell_type": "markdown",
   "id": "5acbbc40",
   "metadata": {},
   "source": [
    "# Oscillocope connection"
   ]
  },
  {
   "cell_type": "code",
   "execution_count": null,
   "id": "23c55ca2",
   "metadata": {},
   "outputs": [],
   "source": [
    "scope_addr2= 'USB0::0x2A8D::0x900E::MY55490134::INSTR'\n",
    "# connect to scope via USB\n",
    "try:\n",
    "    resourceManager = visa.ResourceManager()   # Create a connection (session) to the instrument\n",
    "    scope = resourceManager.open_resource(scope_addr2)\n",
    "except visa.Error as ex2:\n",
    "        print('Couldn\\'t connect to \\'%s\\', exiting now...' % scope_addr2)\n",
    "        sys.exit()\n",
    "    ## scope acquisition \n",
    "# Send *IDN? and read the response\n",
    "scope.write('*RST?')\n",
    "scope.write('*IDN?')\n",
    "idn = scope.read()\n",
    "print('*IDN? returned: %s' % idn.rstrip('\\n'))"
   ]
  },
  {
   "cell_type": "markdown",
   "id": "cf72e74c",
   "metadata": {},
   "source": [
    "# Test for different sampling rate"
   ]
  },
  {
   "cell_type": "code",
   "execution_count": null,
   "id": "4d99e7a5",
   "metadata": {
    "scrolled": true
   },
   "outputs": [],
   "source": [
    "\n",
    "in_phase =0\n",
    "test_success = True\n",
    "\n",
    "for channb in np.arange(1,5,1): #loop for all cahnnels\n",
    "    inst.send_scpi_cmd(':INST:CHAN {}'.format(channb))\n",
    "    if channb%2 ==0:\n",
    "        maxRate = 2600 #max sampling rate for even channels is 2500MHz\n",
    "        step = 500\n",
    "    else:\n",
    "        maxRate = 10000 #max sampling rate for even channels is 9000MHz\n",
    "        step = 1000        \n",
    "    #print(channb,maxRate,step) \n",
    "    for sampling_rate in np.arange(1000,maxRate,step): #loop for sampling rate\n",
    "        inst.send_scpi_cmd(':SOUR:FREQ {}e6'.format(sampling_rate))\n",
    "        freq = inst.send_scpi_query(':SOUR:FREQ?')\n",
    "        print('***Test begin for channel {0} and sampling rate {1} MHz ***'.format(channb,float(freq)/1e6))\n",
    "        for cfreq in np.arange(100,9000,500): #loop for cfr\n",
    "            inst.send_scpi_cmd(':MODE NCO')\n",
    "            resp = inst.send_scpi_query(':MODE?')\n",
    "            #print('source mode', resp, 'selected')\n",
    "            #NCO mode , nco frequency and NCO phase\n",
    "            inst.send_scpi_cmd(':NCO:MODE SING')\n",
    "            resp = inst.send_scpi_query(\":NCO:MODE?\") #To check mode\n",
    "            #print('MODE:',resp)\n",
    "            inst.send_scpi_cmd(':NCO:CFR1 {}e6'.format(cfreq))\n",
    "            cfr_freq = inst.send_scpi_query(\":NCO:CFR1?\") #To check frequency\n",
    "            #print(\"Carrier frequency \",cfr_freq)\n",
    "            inst.send_scpi_cmd(':NCO:PHAS1 {0}'.format(in_phase))\n",
    "            phase = inst.send_scpi_query(\":NCO:PHAS1?\") #To check phase \n",
    "            #print(\"Phase:{}\".format(phase))\n",
    "            inst.send_scpi_cmd(':VOLT 0.5')\n",
    "            #inst.send_scpi_cmd(':NCO:SIXD1 ON')\n",
    "            inst.send_scpi_cmd(':OUTP ON')\n",
    "            scope.write('AUTOscale')\n",
    "            time.sleep(5)\n",
    "            scope.write('*OPC')\n",
    "            scope.write('*CLS;:DISPlay:CGRade:LEVels')\n",
    "            scope.write(':MEASure:CLEar')\n",
    "            scope.write(':MEASure:FREQuency CHANnel{}'.format(channb))\n",
    "            time.sleep(1)\n",
    "            scope.write(':MEASure:RESults?')\n",
    "            result = scope.read()\n",
    "            frequency = float(result.split(',')[2])/1e6\n",
    "            #print('Frequency : {}MHz'.format(float(frequency)))\n",
    "            #print(\"Ocsilloscope frequency should {}MHz\".format(cfreq ))\n",
    "            difference =abs(cfreq -frequency)\n",
    "            #print('Difference between measured frequency = {}MHz'.format(abs(cfreq -frequency)))\n",
    "            if difference < (0.1*cfreq):\n",
    "                print('\\t Test PASS for {0}MHz at sampling rate of {1} MHz'.format(cfreq,sampling_rate))\n",
    "            else:\n",
    "                print('\\t Test FAIL for {0}MHz at sampling rate of {1} MHz'.format(cfreq,sampling_rate))\n",
    "                test_success = False\n",
    "\n",
    "if (test_success):\n",
    "    print('test successed for CFR')\n",
    "else:\n",
    "    print('test failed for CFR')"
   ]
  },
  {
   "cell_type": "markdown",
   "id": "7188e41b",
   "metadata": {},
   "source": [
    "# Disconnect"
   ]
  },
  {
   "cell_type": "code",
   "execution_count": null,
   "id": "827ae1d4",
   "metadata": {},
   "outputs": [],
   "source": [
    "disconnect()\n",
    "scope.close()\n",
    "print('Disconnected')"
   ]
  },
  {
   "cell_type": "code",
   "execution_count": null,
   "id": "3d3525f6",
   "metadata": {},
   "outputs": [],
   "source": []
  }
 ],
 "metadata": {
  "kernelspec": {
   "display_name": "Python 3 (ipykernel)",
   "language": "python",
   "name": "python3"
  },
  "language_info": {
   "codemirror_mode": {
    "name": "ipython",
    "version": 3
   },
   "file_extension": ".py",
   "mimetype": "text/x-python",
   "name": "python",
   "nbconvert_exporter": "python",
   "pygments_lexer": "ipython3",
   "version": "3.10.9"
  }
 },
 "nbformat": 4,
 "nbformat_minor": 5
}
