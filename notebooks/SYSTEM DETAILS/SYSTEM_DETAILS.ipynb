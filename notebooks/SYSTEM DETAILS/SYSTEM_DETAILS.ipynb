{
 "cells": [
  {
   "cell_type": "markdown",
   "id": "a7e104a7",
   "metadata": {},
   "source": [
    "# System Details\n",
    "The system-related commands are not related directly to waveform generation but are an \n",
    "important part of operating the Proteus unit. These commands are used to reset the instrument and \n",
    "query its system settings and version/release related informations.\n",
    "\n"
   ]
  },
  {
   "cell_type": "code",
   "execution_count": 9,
   "id": "d84f3957",
   "metadata": {},
   "outputs": [],
   "source": [
    "#Pre-requisite for the script \n",
    "ip_address= '192.90.70.22' #input('Please enter ip address for the device') "
   ]
  },
  {
   "cell_type": "code",
   "execution_count": 10,
   "id": "bf06e525",
   "metadata": {},
   "outputs": [],
   "source": [
    "## Import required Libraries\n",
    "import os\n",
    "import sys\n",
    "import tempfile\n",
    "import webbrowser\n",
    "srcpath = os.path.realpath('SourceFiles')\n",
    "sys.path.append(srcpath)\n",
    "from teproteus import TEProteusAdmin as TepAdmin\n",
    "from teproteus import TEProteusInst as TepInst\n",
    "from teproteus_functions_v3 import connect\n",
    "from teproteus_functions_v3 import disconnect\n",
    "from teproteus_functions_v3 import set_lib_dir_path\n",
    "from teproteus_functions_v3 import get_cpatured_header\n",
    "from teproteus_functions_v3 import gauss_env\n",
    "from teproteus_functions_v3 import iq_kernel\n",
    "from teproteus_functions_v3 import pack_kernel_data\n",
    "from teproteus import TEProteusAdmin, TEProteusInst\n",
    "from tevisainst import TEVisaInst\n",
    "# matplotlib notebook\n",
    "import numpy as np\n",
    "import time\n",
    "import ipywidgets as widgets\n",
    "from IPython.core.debugger import set_trace\n",
    "from scipy.signal import chirp, sweep_poly\n",
    "import matplotlib.pyplot as plt\n",
    "\n",
    "plt.style.use('ggplot')\n",
    "from scipy import signal\n",
    "import math\n",
    "import pdb\n",
    "\n",
    "import pyvisa as visa\n",
    "from pyvisa.errors import Error"
   ]
  },
  {
   "cell_type": "code",
   "execution_count": 11,
   "id": "df4a9db7",
   "metadata": {},
   "outputs": [
    {
     "name": "stdout",
     "output_type": "stream",
     "text": [
      "Service connect\n",
      "Trying to connect to IP:192.90.70.22\n",
      "Tabor Electronics,P9484M,000002232771,1.238.6 --slot#: 2, \n",
      "Max segment number: 65536\n",
      "Available memory per DDR: 17,171,480,576 wave-bytes\n"
     ]
    }
   ],
   "source": [
    "# Connect to instrument\n",
    "inst = connect(ip_address)\n",
    "\n",
    "# Get the instrument's *IDN\n",
    "resp = inst.send_scpi_query('*IDN?')\n",
    "print(resp)\n",
    "\n",
    "# # Get the model:\n",
    "# model_name = inst.send_scpi_query('SYST:INF:MODel?')\n",
    "# print('Model: {0} '.format(model_name))\n",
    "# # Get number of channels\n",
    "# resp = inst.send_scpi_query(\":INST:CHAN? MAX\")\n",
    "# #print(\"Number of channels: \" + resp)\n",
    "# num_channels = int(resp)\n",
    "\n",
    "# # Get the DAC mode (8 bits or 16 bits)\n",
    "# resp = inst.send_scpi_query(':SYST:INF:DAC?')\n",
    "# if resp == 'M0':\n",
    "#     dac_mode = 16\n",
    "# else:\n",
    "#     dac_mode = 8\n",
    "\n",
    "# #print('DAC {0} bits'.format(dac_mode))\n",
    "\n",
    "# if dac_mode == 16:\n",
    "#     max_dac = 65535\n",
    "#     data_type = np.uint16 \n",
    "# else:\n",
    "#     max_dac = 255\n",
    "#     data_type = np.uint8 \n",
    "    \n",
    "# half_dac = max_dac / 2.0\n",
    "\n",
    "# Several initializations ..\n",
    "inst.send_scpi_cmd('*CLS; *RST')\n",
    "inst.send_scpi_cmd(':TRACe:DELete:ALL')\n",
    "# Get the maximal number of segments\n",
    "resp = inst.send_scpi_query(\":TRACe:SELect:SEGMent? MAX\")\n",
    "print(\"Max segment number: \" + resp)\n",
    "max_seg_number = int(resp)\n",
    "\n",
    "# Get the available memory in bytes of wavform-data (per DDR):\n",
    "resp = inst.send_scpi_query(\":TRACe:FREE?\")\n",
    "arbmem_capacity = int(resp)\n",
    "print(\"Available memory per DDR: {0:,} wave-bytes\".format(arbmem_capacity))"
   ]
  },
  {
   "cell_type": "code",
   "execution_count": 12,
   "id": "0a5b5723",
   "metadata": {},
   "outputs": [
    {
     "name": "stdout",
     "output_type": "stream",
     "text": [
      "Internal Vcc of the instrument : 0.967667V\n",
      "Auxiliary Vcc of the instrument : 1.80482V\n",
      "Minimum verbose level =  0\n",
      "Maximum verbose level =  7\n"
     ]
    }
   ],
   "source": [
    "## Voltage query\n",
    "## 12.17 Internal Vcc of the instrument\n",
    "resp = inst.send_scpi_query(\":SYST:VINT?\")\n",
    "print('Internal Vcc of the instrument : {}V'.format(resp)  ) \n",
    "\n",
    "## 12.18 auxiliary Vcc of the instrument.\n",
    "resp = inst.send_scpi_query(\":SYST:VAUX?\")\n",
    "print('Auxiliary Vcc of the instrument : {}V'.format(resp)  )  \n",
    "## 12.1 verbose level (0: minimal, 6: maximal)\n",
    "min = int(inst.send_scpi_query(\":SYST:LOG? MIN\")) ## minimum value\n",
    "print('Minimum verbose level = ', min)\n",
    "max = int(inst.send_scpi_query(\":SYST:LOG? MAX\")) ## Maximum value\n",
    "print('Maximum verbose level = ', max)   "
   ]
  },
  {
   "cell_type": "code",
   "execution_count": 13,
   "id": "d0dbb3af",
   "metadata": {},
   "outputs": [
    {
     "name": "stdout",
     "output_type": "stream",
     "text": [
      "Temperature of the instrument :  71.338800, 2\n",
      "Highest recorded temperature of the instrument (°C) :  72.9301\n",
      "Lowest recorded temperature of the instrument (°C) :  28.1295\n",
      "SCPI command version :  1.129.000\n",
      "Last calibration date :  2023-07-12 16:05\n",
      "Model id :  P9484M\n",
      "Serial number :  2232771\n",
      "Hardware revision level :  E-D-E-D-XX\n",
      "FPGA FW version :  1.238.6\n",
      "FPGA FW build date :  2023-05-14/0\n",
      "DLL version :  1.200.0-rc\n",
      "DLL build date :  2024-01-04 09:17:28\n",
      "DAC mode : 16 bit M0\n",
      "slot-number :  2\n",
      "ERROR :  0, no error\n"
     ]
    }
   ],
   "source": [
    "## Temperatue query\n",
    "## 12.14 The Proteus unit will return the internal temperature (°C).\n",
    "resp = inst.send_scpi_query(\":SYST:TEMP?\")\n",
    "print('Temperature of the instrument : ',resp)\n",
    "resp = inst.send_scpi_query(\":SYST:HTP?\")\n",
    "print('Highest recorded temperature of the instrument (°C) : ',resp)\n",
    "resp = inst.send_scpi_query(\":SYST:LTP?\")\n",
    "print('Lowest recorded temperature of the instrument (°C) : ',resp)  \n",
    "## 12.13 SCPI command version\n",
    "resp = inst.send_scpi_query(\":SYST:INF:SCPI:VERS?\")\n",
    "print('SCPI command version : ',resp)\n",
    "## 12.3  last calibration date\n",
    "resp = inst.send_scpi_query(\":SYST:INF:CAL?\")\n",
    "print('Last calibration date : ',resp)\n",
    "\n",
    "## 12.4 Model id\n",
    "resp = inst.send_scpi_query(\":SYST:INF:MOD?\")\n",
    "print('Model id : ',resp)\n",
    "\n",
    "## 12.5 Serial number\n",
    "resp = inst.send_scpi_query(\":SYST:INF:SER?\")\n",
    "print('Serial number : ',resp)\n",
    "\n",
    "## 12.6 hardware revisions in the form \"<AB-<AM>-DB>-<DM>-<ADC>\"\n",
    "resp = inst.send_scpi_query(\":SYST:INF:HARD?\")\n",
    "print('Hardware revision level : ',resp)\n",
    "##12.7 Query the FPGA FW version\n",
    "resp = inst.send_scpi_query(\":SYST:INF:FPGA:VERS?\")\n",
    "print('FPGA FW version : ',resp)\n",
    "##12.8 Query the FPGA FW build date\n",
    "resp = inst.send_scpi_query(\":SYST:INF:FPGA:DATE?\")\n",
    "print('FPGA FW build date : ',resp)\n",
    "\n",
    "##12.9 Query the control PC DLL version\n",
    "resp = inst.send_scpi_query(\":SYST:INF:FIRM:VERS?\")\n",
    "print('DLL version : ',resp)\n",
    "\n",
    "## 12.10 Proteus DLL build date\n",
    "resp = inst.send_scpi_query(\":SYST:INF:FIRM:DATE?\")\n",
    "print('DLL build date : ',resp)\n",
    "\n",
    "## 12.11 DAC mode\n",
    "resp = inst.send_scpi_query(\":SYST:INF:DAC?\")\n",
    "##resp = 'M1'\n",
    "if resp == 'M0':\n",
    "    print('DAC mode : 16 bit',resp)\n",
    "elif resp == 'M1':\n",
    "    print('DAC mode : 8 bit')\n",
    "#Returns M0 for 16-bit width and M1 for 8-bit width.\n",
    "\n",
    "## 12.12  slot-number\n",
    "resp = inst.send_scpi_query(\":SYST:INF:SLOT?\")\n",
    "print('slot-number : ',resp) \n",
    "# 12.2 . This query will interrogate the Proteus unit for programming errors (refer programming maual for error list)\n",
    "resp = inst.send_scpi_query(\":SYST:ERR?\")\n",
    "print('ERROR : ',resp) "
   ]
  },
  {
   "cell_type": "code",
   "execution_count": 14,
   "id": "e4459037",
   "metadata": {},
   "outputs": [
    {
     "name": "stdout",
     "output_type": "stream",
     "text": [
      "Default Voltage : 0.5\n",
      "Voltage Range 0.001 to 0.55:\n",
      "Voltage : 0.2\n"
     ]
    }
   ],
   "source": [
    "# voltage level\n",
    "resp = inst.send_scpi_query(\":VOLT?DEF\")\n",
    "print('Default Voltage :',resp)\n",
    "max = inst.send_scpi_query(\":VOLT?MAX\")\n",
    "min = inst.send_scpi_query(\":VOLT?MIN\")\n",
    "\n",
    "print('Voltage Range {0} to {1}:'.format(min,max))\n",
    "\n",
    "inst.send_scpi_cmd(':VOLT 0.2')\n",
    "resp = inst.send_scpi_query(':VOLT?')\n",
    "print('Voltage : {0}'.format(resp))"
   ]
  },
  {
   "cell_type": "code",
   "execution_count": 15,
   "id": "05922399",
   "metadata": {},
   "outputs": [
    {
     "name": "stdout",
     "output_type": "stream",
     "text": [
      "Default Voltage offset : 0\n",
      "Voltage offset(max) : 0\n",
      "Voltage offset(min) : 0\n",
      "Voltage offset : 0\n"
     ]
    }
   ],
   "source": [
    "# offfset \n",
    "resp = inst.send_scpi_query(':VOLT:OFFS?DEF')\n",
    "print('Default Voltage offset : {0}'.format(resp))\n",
    "resp = inst.send_scpi_query(':VOLT:OFFS?MAX')\n",
    "print('Voltage offset(max) : {0}'.format(resp))\n",
    "resp = inst.send_scpi_query(':VOLT:OFFS?MIN')\n",
    "print('Voltage offset(min) : {0}'.format(resp))\n",
    "inst.send_scpi_cmd(':VOLT:OFFS 0.2')\n",
    "resp = inst.send_scpi_query(':VOLT:OFFS?')\n",
    "print('Voltage offset : {0}'.format(resp))"
   ]
  },
  {
   "cell_type": "code",
   "execution_count": 16,
   "id": "fcf6714b",
   "metadata": {},
   "outputs": [],
   "source": [
    "#disconnect\n",
    "disconnect()\n",
    "print('Proteus disconnected successfully')"
   ]
  }
 ],
 "metadata": {
  "kernelspec": {
   "display_name": "Python 3 (ipykernel)",
   "language": "python",
   "name": "python3"
  },
  "language_info": {
   "codemirror_mode": {
    "name": "ipython",
    "version": 3
   },
   "file_extension": ".py",
   "mimetype": "text/x-python",
   "name": "python",
   "nbconvert_exporter": "python",
   "pygments_lexer": "ipython3",
   "version": "3.10.9"
  }
 },
 "nbformat": 4,
 "nbformat_minor": 5
}
