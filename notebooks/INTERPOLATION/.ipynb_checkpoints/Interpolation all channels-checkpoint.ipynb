{
 "cells": [
  {
   "cell_type": "markdown",
   "metadata": {},
   "source": [
    "<img align=\"left\" src=\"https://www.taborelec.com/Pictures/logo.png\">"
   ]
  },
  {
   "cell_type": "markdown",
   "metadata": {},
   "source": [
    "# INTERPOLATION"
   ]
  },
  {
   "cell_type": "markdown",
   "metadata": {},
   "source": [
    "### Test Description:\n",
    "This test will check the proteus functionality of interpolating the sampling point by desired factor.In this test one segment of sin waveform is generated and downloaded to channel 1(can be modified).\n",
    "this script runs for following sampling rate with a step of 1e9\n",
    "'X1': 1e9 to 2.5e9,\n",
    "'X2': 1e9 to 5.0e9,\n",
    "'X4': 1e9 to 9.0e9,\n",
    " 'X8':1e9 to 9.0e9\n",
    "\n",
    "### Test Equipments:\n",
    "1. Proteus\n",
    "2. Spectrum Analyzer\n",
    "3. SMA to SMA Cable\n",
    "\n",
    "### Test Procedure: \n",
    "1. Connect channel 1 of the proteus to the spectrum analyzer using SMA to SMA cable.\n",
    "3. Observe the output on spectrum analyzer.\n",
    "\n"
   ]
  },
  {
   "cell_type": "code",
   "execution_count": 1,
   "metadata": {},
   "outputs": [],
   "source": [
    "import os\n",
    "import sys\n",
    "import tempfile\n",
    "import webbrowser\n",
    "srcpath = os.path.realpath('SourceFiles')\n",
    "sys.path.append(srcpath)\n",
    "from teproteus import TEProteusAdmin as TepAdmin\n",
    "from teproteus import TEProteusInst as TepInst\n",
    "from teproteus_functions_v3 import connect\n",
    "from teproteus_functions_v3 import disconnect\n",
    "from teproteus_functions_v3 import set_lib_dir_path\n",
    "from teproteus_functions_v3 import get_cpatured_header\n",
    "from teproteus_functions_v3 import gauss_env\n",
    "from teproteus_functions_v3 import iq_kernel\n",
    "from teproteus_functions_v3 import pack_kernel_data\n",
    "\n",
    "#matplotlib notebook\n",
    "import numpy as np\n",
    "import time\n",
    "import ipywidgets as widgets\n",
    "from IPython.core.debugger import set_trace\n",
    "from scipy.signal import chirp, sweep_poly\n",
    "import matplotlib.pyplot as plt\n",
    "plt.style.use('ggplot')\n",
    "from scipy import signal\n",
    "import math\n",
    "import pyvisa as visa\n",
    "from pyvisa.errors import Error"
   ]
  },
  {
   "cell_type": "markdown",
   "metadata": {},
   "source": [
    "# Required parameters"
   ]
  },
  {
   "cell_type": "code",
   "execution_count": 2,
   "metadata": {},
   "outputs": [],
   "source": [
    "ip_address = '127.0.0.1'\n",
    "channb = 1\n",
    "sampling_rate = 2500\n",
    "#cfr = 300\n",
    "test_success =True\n",
    "#center_frequecny_sa = 400 #spectrum analyzer center frequency in MHz\n",
    "span_sa = 600 #spectrum analyzer span in MHz \n",
    "\n",
    "def getIntepolation(i):\n",
    "    switcher={\n",
    "                1:'X1',\n",
    "                2:'X2',\n",
    "                4:'X4',\n",
    "                8:'X8'\n",
    "             }\n",
    "    return switcher.get(i,\"Invalid Interpolation\")\n",
    "\n",
    "def getMaxRate(i):\n",
    "    switcher={\n",
    "                'X1': 2.5e9,\n",
    "                'X2': 5.0e9,\n",
    "                'X4': 9.0e9,\n",
    "                'X8': 9.0e9,\n",
    "             }\n",
    "    return switcher.get(i,\"2500\")\n",
    "\n",
    "# select here the Interpolation mode : 1,2,4 or 8\n",
    "intr = 2#int(input('Enter the interpolation factor'))\n",
    "Interpolation = getIntepolation(intr)\n",
    "maxRate = getMaxRate(Interpolation)\n",
    "\n"
   ]
  },
  {
   "cell_type": "markdown",
   "metadata": {},
   "source": [
    "# Spectrum analyzer connection"
   ]
  },
  {
   "cell_type": "code",
   "execution_count": 3,
   "metadata": {},
   "outputs": [
    {
     "name": "stdout",
     "output_type": "stream",
     "text": [
      "TCPIPSocket at TCPIP0::192.90.70.36::5025::SOCKET\n",
      "IDN Response: Agilent Technologies, E4440A, MY44303333, A.09.10\n"
     ]
    },
    {
     "data": {
      "text/plain": [
       "5"
      ]
     },
     "execution_count": 3,
     "metadata": {},
     "output_type": "execute_result"
    }
   ],
   "source": [
    "\n",
    "device_address = 'TCPIP::192.90.70.36::5025::SOCKET'\n",
    "try:\n",
    "    rm = visa.ResourceManager()\n",
    "    spectrum_analyzer = rm.open_resource(device_address)\n",
    "    spectrum_analyzer.timeout = 2000\n",
    "    spectrum_analyzer.write_termination  = '\\n'\n",
    "    spectrum_analyzer.read_termination  = '\\n'\n",
    "    print(spectrum_analyzer)\n",
    "except visa.Error as e:\n",
    "    print(\"Error while connecting: {}\".format(e))\n",
    "try:\n",
    "    # Query the *IDN? command to get the identification string\n",
    "    spectrum_analyzer.write('*IDN?')\n",
    "    #spectrum_analyzer.timeout = 1000\n",
    "    idn_response = spectrum_analyzer.read()\n",
    "\n",
    "    print(\"IDN Response: {}\".format(idn_response))\n",
    "except visa.Error as e:\n",
    "    print(\"Error reading IDN: {}\".format(e))\n",
    "spectrum_analyzer.write('*RST')\n",
    "spectrum_analyzer.write('*CLS')"
   ]
  },
  {
   "cell_type": "markdown",
   "metadata": {},
   "source": [
    "# Protues connection"
   ]
  },
  {
   "cell_type": "code",
   "execution_count": 4,
   "metadata": {},
   "outputs": [
    {
     "name": "stdout",
     "output_type": "stream",
     "text": [
      "Service connect\n",
      "Trying to connect to IP:127.0.0.1\n",
      "Connected to: Tabor Electronics,P9484M,000002232810,1.240.4 --slot#: 5, \n",
      "Model: P9484M\n",
      "DAC waveform format: 16 bits-per-point\n",
      "2500000000.000\n"
     ]
    }
   ],
   "source": [
    "#inst=connect(\"5\",Auto=False)\n",
    "inst=connect(ip_address)   \n",
    "\n",
    "\n",
    "# Get the instrument's *IDN\n",
    "resp = inst.send_scpi_query('*IDN?')\n",
    "print('Connected to: ' + resp)\n",
    "\n",
    "# Get the model name\n",
    "resp = inst.send_scpi_query(\":SYST:iNF:MODel?\")\n",
    "print(\"Model: \" + resp)\n",
    "\n",
    "# Infer the natural DAC waveform format\n",
    "if 'P9082' in resp:\n",
    "    dac_mode = 8\n",
    "    max_dac = 255\n",
    "    data_type = np.uint8\n",
    "else:\n",
    "    dac_mode = 16\n",
    "    max_dac = 65535\n",
    "    data_type = np.uint16\n",
    "print(\"DAC waveform format: {0} bits-per-point\".format(dac_mode))\n",
    "\n",
    "half_dac = round(max_dac / 2.0)\n",
    "\n",
    "# Several initializations ..\n",
    "inst.send_scpi_cmd('*CLS; *RST')\n",
    "inst.send_scpi_cmd(':INST:CHAN {}'.format(channb))\n",
    "inst.send_scpi_cmd(':TRAC:DEL:ALL')\n",
    "inst.send_scpi_cmd(':SOUR:FREQ {}MHz'.format(sampling_rate))\n",
    "resp = inst.send_scpi_query(':SOUR:FREQ?')\n",
    "print(resp)\n",
    "resp = inst.send_scpi_query(':SYST:ERR?')\n",
    "resp = resp.rstrip()\n",
    "if not resp.startswith('0'):\n",
    "    print('ERROR: \"{0}\" '.format(resp))\n",
    "        "
   ]
  },
  {
   "cell_type": "markdown",
   "metadata": {},
   "source": [
    "## Configure Generator"
   ]
  },
  {
   "cell_type": "code",
   "execution_count": 5,
   "metadata": {},
   "outputs": [],
   "source": [
    "#### Create Two segments\n",
    "# Build two AWG segment one for I and one for Q\n",
    "\n",
    "cycleLen = 1024\n",
    "numCycles = 1\n",
    "segLen = cycleLen * numCycles\n",
    "\n",
    "# Build waveform (cosine wave)\n",
    "x = np.linspace(\n",
    "    start=0, stop=2 * np.pi * numCycles, num=segLen, endpoint=False)\n",
    "\n",
    "y = (np.cos(x) + 1.0) * half_dac\n",
    "y = np.round(y)\n",
    "y = np.clip(y, 0, max_dac)\n",
    "y = y.astype(data_type)\n",
    "\n",
    "# download it to segment 1 of channel 1\n",
    "inst.send_scpi_cmd(':INST:CHAN 1') # I on channel 1\n",
    "inst.send_scpi_cmd(':TRAC:DEF 1,' + str(segLen))\n",
    "inst.send_scpi_cmd(':TRAC:SEL 1')\n",
    "# download the waveform to the selected segment\n",
    "inst.write_binary_data(':TRAC:DATA', y)\n",
    "resp = inst.send_scpi_query(':SYST:ERR?')\n",
    "resp = resp.rstrip()\n",
    "if not resp.startswith('0'):\n",
    "    print('ERROR: \"{0}\" after writing binary values CH1'.format(resp))"
   ]
  },
  {
   "cell_type": "code",
   "execution_count": 6,
   "metadata": {
    "scrolled": true
   },
   "outputs": [
    {
     "name": "stdout",
     "output_type": "stream",
     "text": [
      "Maximum sampling rate for X1 interpolation is 2500MHz \n",
      "\n",
      "\tOutput frequency 0.98 MHz\n",
      "\tTest pass for 0.9765625 MHz at sampling rate 1000 MHz\n",
      "\tOutput frequency 1.95 MHz\n",
      "\tTest pass for 1.953125 MHz at sampling rate 2000 MHz\n",
      "Maximum sampling rate for X2 interpolation is 2500MHz \n",
      "\n",
      "\tOutput frequency 0.49 MHz\n",
      "\tTest pass for 0.48828125 MHz at sampling rate 1000 MHz\n",
      "\tOutput frequency 0.98 MHz\n",
      "\tTest pass for 0.9765625 MHz at sampling rate 2000 MHz\n",
      "Maximum sampling rate for X4 interpolation is 9000MHz \n",
      "\n",
      "\tOutput frequency 0.24 MHz\n",
      "\tTest pass for 0.244140625 MHz at sampling rate 1000 MHz\n",
      "\tOutput frequency 0.49 MHz\n",
      "\tTest pass for 0.48828125 MHz at sampling rate 2000 MHz\n",
      "\tOutput frequency 0.73 MHz\n",
      "\tTest pass for 0.732421875 MHz at sampling rate 3000 MHz\n",
      "\tOutput frequency 0.98 MHz\n",
      "\tTest pass for 0.9765625 MHz at sampling rate 4000 MHz\n",
      "\tOutput frequency 1.22 MHz\n",
      "\tTest pass for 1.220703125 MHz at sampling rate 5000 MHz\n",
      "\tOutput frequency 1.46 MHz\n",
      "\tTest pass for 1.46484375 MHz at sampling rate 6000 MHz\n",
      "\tOutput frequency 1.71 MHz\n",
      "\tTest pass for 1.708984375 MHz at sampling rate 7000 MHz\n",
      "\tOutput frequency 1.95 MHz\n",
      "\tTest pass for 1.953125 MHz at sampling rate 8000 MHz\n",
      "\tOutput frequency 2.2 MHz\n",
      "\tTest pass for 2.197265625 MHz at sampling rate 9000 MHz\n",
      "Maximum sampling rate for X8 interpolation is 9000MHz \n",
      "\n",
      "\tOutput frequency 1.11 MHz\n",
      "\tTest FAIL for 0.1220703125 MHz at sampling rate 1000 MHz\n",
      "\tOutput frequency 0.21 MHz\n",
      "\tTest FAIL for 0.244140625 MHz at sampling rate 2000 MHz\n",
      "\tOutput frequency 0.37 MHz\n",
      "\tTest pass for 0.3662109375 MHz at sampling rate 3000 MHz\n",
      "\tOutput frequency 0.49 MHz\n",
      "\tTest pass for 0.48828125 MHz at sampling rate 4000 MHz\n",
      "\tOutput frequency 0.61 MHz\n",
      "\tTest pass for 0.6103515625 MHz at sampling rate 5000 MHz\n",
      "\tOutput frequency 0.73 MHz\n",
      "\tTest pass for 0.732421875 MHz at sampling rate 6000 MHz\n",
      "\tOutput frequency 0.85 MHz\n",
      "\tTest pass for 0.8544921875 MHz at sampling rate 7000 MHz\n",
      "\tOutput frequency 0.98 MHz\n",
      "\tTest pass for 0.9765625 MHz at sampling rate 8000 MHz\n",
      "\tOutput frequency 1.1 MHz\n",
      "\tTest pass for 1.0986328125 MHz at sampling rate 9000 MHz\n"
     ]
    }
   ],
   "source": [
    "for intr in range(1,5,1): #loop for interpolation\n",
    "    intrp = 2**(intr-1)\n",
    "    if intrp==1:\n",
    "        cmd_intr = ':SOUR:INT NONE'\n",
    "        maxRate = 2500\n",
    "    elif intrp==2:\n",
    "        cmd_intr = ':SOUR:INT X{}'.format(intrp)\n",
    "        maxRate = 2500\n",
    "    else:\n",
    "        cmd_intr = ':SOUR:INT X{}'.format(intrp)\n",
    "        maxRate = 9000\n",
    "    inst.send_scpi_cmd(cmd_intr)\n",
    "    Interpolation = getIntepolation(intr)\n",
    "    #maxRate = int((getMaxRate(Interpolation))/1e6)\n",
    "    \n",
    "    print(\"Maximum sampling rate for X{0} interpolation is {1}MHz \".format(intrp,maxRate))\n",
    "    input()\n",
    "    for sampling_rate in range(1000,maxRate+100,1000):\n",
    "\n",
    "        inst.send_scpi_cmd(':SOUR:FREQ {}e6'.format(sampling_rate))\n",
    "        samp_freq = inst.send_scpi_query(':SOUR:FREQ?')\n",
    "        #print(\"Sampling rate ={}MHz\".format(float(samp_freq)/1e6))\n",
    "        inst.send_scpi_cmd(':INST:CHAN 1')\n",
    "        inst.send_scpi_cmd(':SOUR:FUNC:MODE:SEGM 1')\n",
    "        inst.send_scpi_cmd(':VOLT 0.5')\n",
    "        inst.send_scpi_cmd(':OUTP ON')\n",
    "        cfr = float(samp_freq)/(cycleLen*intrp*1e6)\n",
    "        #print('Desired frequency = {} MHz'.format(cfr))\n",
    "        for i in range(5):  # to double check the spectrum analyzer output (accurate result)\n",
    "            # spectrum analyzer settings\n",
    "            spectrum_analyzer.write(':INIT:REST')\n",
    "\n",
    "            spectrum_analyzer.write('FREQ:SPAN 10 MHz'.format(span_sa))\n",
    "\n",
    "            spectrum_analyzer.write('FREQ:CENT {} MHz'.format(cfr))\n",
    "\n",
    "            spectrum_analyzer.write(':CALC:MARK1:STAT ON')\n",
    "\n",
    "            spectrum_analyzer.write(':CALC:MARK1:MAX')\n",
    "            time.sleep(1)\n",
    "            spectrum_analyzer.write('CALC:MARK1:X?')\n",
    "            resp = spectrum_analyzer.read()\n",
    "        freq_out = float(resp)/1e6\n",
    "        print(\"\\tOutput frequency {} MHz\".format(freq_out))\n",
    "        if abs(freq_out - cfr)< 0.1 *cfr:\n",
    "            print(\"\\tTest pass for {0} MHz at sampling rate {1} MHz\".format(cfr,sampling_rate))\n",
    "        else:\n",
    "            test_success =False\n",
    "            print(\"\\tTest FAIL for {0} MHz at sampling rate {1} MHz\".format(cfr,sampling_rate))"
   ]
  },
  {
   "cell_type": "markdown",
   "metadata": {},
   "source": [
    "#### DAC clock and output"
   ]
  },
  {
   "cell_type": "code",
   "execution_count": 1,
   "metadata": {},
   "outputs": [
    {
     "ename": "NameError",
     "evalue": "name 'test_success' is not defined",
     "output_type": "error",
     "traceback": [
      "\u001b[1;31m---------------------------------------------------------------------------\u001b[0m",
      "\u001b[1;31mNameError\u001b[0m                                 Traceback (most recent call last)",
      "Cell \u001b[1;32mIn[1], line 2\u001b[0m\n\u001b[0;32m      1\u001b[0m \u001b[38;5;66;03m#final result\u001b[39;00m\n\u001b[1;32m----> 2\u001b[0m \u001b[38;5;28;01mif\u001b[39;00m test_success:\n\u001b[0;32m      3\u001b[0m     \u001b[38;5;28mprint\u001b[39m(\u001b[38;5;124m'\u001b[39m\u001b[38;5;124mTest Pass\u001b[39m\u001b[38;5;124m'\u001b[39m)\n\u001b[0;32m      4\u001b[0m \u001b[38;5;28;01melse\u001b[39;00m:\n",
      "\u001b[1;31mNameError\u001b[0m: name 'test_success' is not defined"
     ]
    }
   ],
   "source": [
    "#final result\n",
    "if test_success:\n",
    "    print('Test Pass')\n",
    "else:\n",
    "    print('Test Fail')\n"
   ]
  },
  {
   "cell_type": "markdown",
   "metadata": {},
   "source": [
    "## read debug registers"
   ]
  },
  {
   "cell_type": "code",
   "execution_count": null,
   "metadata": {},
   "outputs": [],
   "source": [
    "import tempfile\n",
    "import webbrowser\n",
    "Debug = False\n",
    "if Debug == True :\n",
    "    channb = 1\n",
    "    cmd = ':INST:CHAN {0}; :SYST:INF:REG?'.format(channb)\n",
    "    html_str = inst.send_scpi_query(cmd, max_resp_len=200000)\n",
    "    #print(html_str)\n",
    "    with tempfile.NamedTemporaryFile('w', delete=False, suffix='.html') as f:\n",
    "        url = 'file://' + f.name\n",
    "        f.write(html_str)\n",
    "    webbrowser.open(url)"
   ]
  },
  {
   "cell_type": "markdown",
   "metadata": {},
   "source": [
    "## End"
   ]
  },
  {
   "cell_type": "code",
   "execution_count": 7,
   "metadata": {},
   "outputs": [
    {
     "name": "stdout",
     "output_type": "stream",
     "text": [
      "Devices disconnected successfully\n"
     ]
    }
   ],
   "source": [
    "# # Disconnect\n",
    "# print_conn_message('')\n",
    "disconnect()\n",
    "rm.close()\n",
    "spectrum_analyzer.close()\n",
    "\n",
    "print('Devices disconnected successfully')"
   ]
  },
  {
   "cell_type": "code",
   "execution_count": null,
   "metadata": {},
   "outputs": [],
   "source": []
  }
 ],
 "metadata": {
  "kernelspec": {
   "display_name": "Python 3 (ipykernel)",
   "language": "python",
   "name": "python3"
  },
  "language_info": {
   "codemirror_mode": {
    "name": "ipython",
    "version": 3
   },
   "file_extension": ".py",
   "mimetype": "text/x-python",
   "name": "python",
   "nbconvert_exporter": "python",
   "pygments_lexer": "ipython3",
   "version": "3.10.9"
  }
 },
 "nbformat": 4,
 "nbformat_minor": 2
}
