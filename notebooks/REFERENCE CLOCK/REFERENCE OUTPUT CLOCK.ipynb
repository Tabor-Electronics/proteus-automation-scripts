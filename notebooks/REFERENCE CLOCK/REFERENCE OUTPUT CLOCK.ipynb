{
 "cells": [
  {
   "cell_type": "markdown",
   "metadata": {},
   "source": [
    "<img align=\"left\" src=\"https://www.taborelec.com/Pictures/logo.png\">"
   ]
  },
  {
   "cell_type": "markdown",
   "metadata": {},
   "source": [
    "# Internal reference output test\n",
    "### Description\n",
    "This script tests the REF OUT capability of the proteus module for the internal reference frequency of 100MHZ.Oscilloscope will measure the square signal of 100MHz available on REF OUT pin of the Proteus module.\n",
    "\n",
    "### Equipment\n",
    "- Proteus P9484M \n",
    "- Oscilloscope (MSO9254A)\n",
    "- 1 SMP to BNC cable\n",
    "\n",
    "### set up:\n",
    "* Connect REF OUT of Proteus to the channel1 of the Oscilloscope.\n",
    "\n",
    "\n",
    "### Proteus version: \n",
    "Aurora\n",
    "\n"
   ]
  },
  {
   "cell_type": "code",
   "execution_count": 9,
   "metadata": {},
   "outputs": [],
   "source": [
    " #Pre-requisite for the script \n",
    "ip_address = '192.90.70.22' #input('Please enter ip address for the device') \n",
    "test_success = True\n",
    "channel_on_scope = 1 # ref out of the proteus is connected to channel3 on the oscilloscope"
   ]
  },
  {
   "cell_type": "code",
   "execution_count": 10,
   "metadata": {},
   "outputs": [
    {
     "name": "stdout",
     "output_type": "stream",
     "text": [
      "Service connect\n",
      "Trying to connect to IP:192.90.70.22\n",
      "Tabor Electronics,P9484M,000002232771,1.238.6 --Tabor Electronics,P9484M,000000000000,1.238.6 --slot#: 2, slot#: 4, \n",
      "Model: P9484M \n",
      "DAC 16 bits\n"
     ]
    }
   ],
   "source": [
    "## Import required Libraries\n",
    "import os\n",
    "import sys\n",
    "import tempfile\n",
    "import webbrowser\n",
    "srcpath = os.path.realpath('SourceFiles')\n",
    "sys.path.append(srcpath)\n",
    "from teproteus import TEProteusAdmin as TepAdmin\n",
    "from teproteus import TEProteusInst as TepInst\n",
    "from teproteus_functions_v3 import connect\n",
    "from teproteus_functions_v3 import disconnect\n",
    "from teproteus_functions_v3 import set_lib_dir_path\n",
    "from teproteus_functions_v3 import get_cpatured_header\n",
    "from teproteus_functions_v3 import gauss_env\n",
    "from teproteus_functions_v3 import iq_kernel\n",
    "from teproteus_functions_v3 import pack_kernel_data\n",
    "from teproteus import TEProteusAdmin, TEProteusInst\n",
    "from tevisainst import TEVisaInst\n",
    "# matplotlib notebook\n",
    "import numpy as np\n",
    "import time\n",
    "import ipywidgets as widgets\n",
    "from IPython.core.debugger import set_trace\n",
    "from scipy.signal import chirp, sweep_poly\n",
    "import matplotlib.pyplot as plt\n",
    "\n",
    "plt.style.use('ggplot')\n",
    "from scipy import signal\n",
    "import math\n",
    "import pdb\n",
    "\n",
    "import pyvisa as visa\n",
    "from pyvisa.errors import Error\n",
    "\n",
    "# Connect to instrument\n",
    "inst = connect(ip_address)\n",
    "\n",
    "# Get the instrument's *IDN\n",
    "resp = inst.send_scpi_query('*IDN?')\n",
    "print(resp)\n",
    "\n",
    "# Get the model:\n",
    "model_name = inst.send_scpi_query('SYST:INF:MODel?')\n",
    "print('Model: {0} '.format(model_name))\n",
    "\n",
    "# Get number of channels\n",
    "resp = inst.send_scpi_query(\":INST:CHAN? MAX\")\n",
    "#print(\"Number of channels: \" + resp)\n",
    "num_channels = int(resp)\n",
    "\n",
    "# Get the DAC mode (8 bits or 16 bits)\n",
    "resp = inst.send_scpi_query(':SYST:INF:DAC?')\n",
    "if resp == 'M0':\n",
    "    dac_mode = 16\n",
    "else:\n",
    "    dac_mode = 8\n",
    "\n",
    "print('DAC {0} bits'.format(dac_mode))\n",
    "\n",
    "if dac_mode == 16:\n",
    "    max_dac = 65535\n",
    "    data_type = np.uint16 \n",
    "else:\n",
    "    max_dac = 255\n",
    "    data_type = np.uint8 \n",
    "    \n",
    "half_dac = max_dac / 2.0\n",
    "\n",
    "# Several initializations ..\n",
    "inst.send_scpi_cmd('*CLS; *RST')\n",
    "inst.send_scpi_cmd(':INST:CHAN 1')\n",
    "inst.send_scpi_cmd(':TRAC:DEL:ALL')\n",
    "resp = inst.send_scpi_query(':SYST:ERR?')\n",
    "resp = resp.rstrip()\n",
    "if not resp.startswith('0'):\n",
    "    print('ERROR: \"{0}\" after writing binary values'.format(resp))"
   ]
  },
  {
   "cell_type": "code",
   "execution_count": 11,
   "metadata": {},
   "outputs": [
    {
     "name": "stdout",
     "output_type": "stream",
     "text": [
      "Reference oscillator freq is changed to: 100M\n",
      "Maximum reference value =  100M\n",
      "Minimum reference value =  10M\n",
      "Default reference value =  100M\n"
     ]
    }
   ],
   "source": [
    "# maximum and minimum reference oscillator input\n",
    "resp = inst.send_scpi_query(\":ROSC:FREQ?\")\n",
    "print(\"Reference oscillator freq is changed to: \" + resp)\n",
    "\n",
    "resp = inst.send_scpi_query(\":ROSC:FREQ?MAX\")\n",
    "print('Maximum reference value = ',resp)\n",
    "\n",
    "resp = inst.send_scpi_query(\":ROSC:FREQ?MIN\")\n",
    "print('Minimum reference value = ',resp)\n",
    "resp = inst.send_scpi_query(\":ROSC:FREQ?DEF\")\n",
    "print('Default reference value = ',resp)"
   ]
  },
  {
   "cell_type": "code",
   "execution_count": 12,
   "metadata": {},
   "outputs": [
    {
     "name": "stdout",
     "output_type": "stream",
     "text": [
      "Connect to  KEYSIGHT TECHNOLOGIES,MSO9254A,MY55490134,06.40.01101\n"
     ]
    }
   ],
   "source": [
    "vertical_scale_per_divison = 100e-3\n",
    "horizontal_scale_per_divison = 5e-9\n",
    "scope_time_scale = 2e-9\n",
    "riseFall_time = 60e-12\n",
    "scope_addr2= 'USB0::0x2A8D::0x900E::MY55490134::INSTR'\n",
    "# connect to scope via USB\n",
    "try:\n",
    "    resourceManager = visa.ResourceManager()   # Create a connection (session) to the instrument\n",
    "    scope = resourceManager.open_resource(scope_addr2)\n",
    "except visa.Error as ex2:\n",
    "        print('Couldn\\'t connect to \\'%s\\', exiting now...' % scope_addr2)\n",
    "        sys.exit()\n",
    "    ## scope acquisition \n",
    "# Send *IDN? and read the response\n",
    "scope.write('*RST?')\n",
    "scope.write('*IDN?')\n",
    "idn = scope.read()\n",
    "print('Connect to ',idn.rstrip('\\n'))"
   ]
  },
  {
   "cell_type": "code",
   "execution_count": 13,
   "metadata": {},
   "outputs": [
    {
     "name": "stdout",
     "output_type": "stream",
     "text": [
      "Test pass for internal reference input 100MHz\n"
     ]
    }
   ],
   "source": [
    "#External reference input of 100M test \n",
    "inst.send_scpi_cmd(':ROSC:SOUR INT') # Internal reference source selected\n",
    "\n",
    "scope.write('*CLS;:DISPlay:CGRade:LEVels ')\n",
    "scope.write('*RST;:CHAN{0}:DISP ON;:TIMebase:SCALe {1}'.format(channel_on_scope,horizontal_scale_per_divison))\n",
    "scope.write(':CHAN{0}:SCAL {1};:CHAN{0}:INP DC50'.format(channel_on_scope,vertical_scale_per_divison))\n",
    "# scope.write('AUTOscale')\n",
    "# time.sleep(5)\n",
    "# scope.write('*OPC')\n",
    "# scope.write('*CLS;:DISPlay:CGRade:LEVels')\n",
    "scope.write(':MEASure:CLEar')\n",
    "scope.write(':MEASure:FREQuency CHANnel{0}'.format(channel_on_scope))\n",
    "time.sleep(1)\n",
    "scope.write(':MEASure:RESults?')\n",
    "result = scope.read()\n",
    "frequency = float(result.split(',')[2])/1e6\n",
    "#print('Frequency : {}MHz'.format(float(frequency)))\n",
    "#     #print(\"Ocsilloscope frequency should {}MHz\".format(cfreq ))\n",
    "difference =abs(100 -frequency)\n",
    "#print('Difference between measured frequency = {}MHz'.format(abs(100 -frequency)))\n",
    "if difference < (2.5):\n",
    "    print('Test pass for internal reference input 100MHz')\n",
    "else:\n",
    "    print('Test FAIL for internal reference input 100MHz')\n",
    "    test_success = False"
   ]
  },
  {
   "cell_type": "code",
   "execution_count": 14,
   "metadata": {},
   "outputs": [
    {
     "name": "stdout",
     "output_type": "stream",
     "text": [
      "Test successed\n",
      "Proteus disconnected successfully\n"
     ]
    }
   ],
   "source": [
    "if(test_success):\n",
    "    print('Test successed')\n",
    "else:\n",
    "     print('Test failed')\n",
    "# Disconnect\n",
    "disconnect()\n",
    "print('Proteus disconnected successfully')"
   ]
  },
  {
   "cell_type": "code",
   "execution_count": null,
   "metadata": {},
   "outputs": [],
   "source": []
  }
 ],
 "metadata": {
  "kernelspec": {
   "display_name": "Python 3 (ipykernel)",
   "language": "python",
   "name": "python3"
  },
  "language_info": {
   "codemirror_mode": {
    "name": "ipython",
    "version": 3
   },
   "file_extension": ".py",
   "mimetype": "text/x-python",
   "name": "python",
   "nbconvert_exporter": "python",
   "pygments_lexer": "ipython3",
   "version": "3.9.13"
  }
 },
 "nbformat": 4,
 "nbformat_minor": 4
}
