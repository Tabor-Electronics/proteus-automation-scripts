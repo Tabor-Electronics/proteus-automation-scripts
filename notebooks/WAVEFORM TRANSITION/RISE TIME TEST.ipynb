{
 "cells": [
  {
   "cell_type": "markdown",
   "metadata": {},
   "source": [
    "# Rise time tests-\n",
    "In this script we have created a pulse waveform segment and downloaded to all the main channels of protes P9484M module and \n",
    "We will be able to test the rise time transition of the pulse by connecting the channel to the scope \n",
    "\n",
    "Proteus release - Aurora\n",
    "\n",
    "Oscilloscope - KEYSIGHT TECHNOLOGIES,MSO9254A\n",
    "This script includes test for channel amplitude, channel rise time and fall time."
   ]
  },
  {
   "cell_type": "code",
   "execution_count": 1,
   "metadata": {},
   "outputs": [],
   "source": [
    "#Pre-requisite for the script \n",
    "ip_address= '192.90.70.22' #input('Please enter ip address for the device') \n",
    "sampling_rate = 2e9\n",
    "test_success = True\n",
    "channel_on_scope = 1 # ref out of the proteus is connected to channel1 on the oscilloscope"
   ]
  },
  {
   "cell_type": "code",
   "execution_count": 2,
   "metadata": {},
   "outputs": [
    {
     "name": "stdout",
     "output_type": "stream",
     "text": [
      "Service connect\n",
      "Trying to connect to IP:192.90.70.22\n",
      "Tabor Electronics,P9484M,000002232771,1.238.6 --Tabor Electronics,P9484M,000000000000,1.238.6 --slot#: 2, slot#: 4, \n",
      "Model: P9484M \n",
      "DAC 16 bits\n"
     ]
    }
   ],
   "source": [
    "## Import required Libraries\n",
    "import os\n",
    "import sys\n",
    "import tempfile\n",
    "import webbrowser\n",
    "srcpath = os.path.realpath('SourceFiles')\n",
    "sys.path.append(srcpath)\n",
    "from teproteus import TEProteusAdmin as TepAdmin\n",
    "from teproteus import TEProteusInst as TepInst\n",
    "from teproteus_functions_v3 import connect\n",
    "from teproteus_functions_v3 import disconnect\n",
    "from teproteus_functions_v3 import set_lib_dir_path\n",
    "from teproteus_functions_v3 import get_cpatured_header\n",
    "from teproteus_functions_v3 import gauss_env\n",
    "from teproteus_functions_v3 import iq_kernel\n",
    "from teproteus_functions_v3 import pack_kernel_data\n",
    "from teproteus import TEProteusAdmin, TEProteusInst\n",
    "from tevisainst import TEVisaInst\n",
    "# matplotlib notebook\n",
    "import numpy as np\n",
    "import time\n",
    "import ipywidgets as widgets\n",
    "from IPython.core.debugger import set_trace\n",
    "from scipy.signal import chirp, sweep_poly\n",
    "import matplotlib.pyplot as plt\n",
    "\n",
    "plt.style.use('ggplot')\n",
    "from scipy import signal\n",
    "import math\n",
    "import pdb\n",
    "\n",
    "import pyvisa as visa\n",
    "from pyvisa.errors import Error\n",
    "\n",
    "# Connect to instrument\n",
    "inst = connect(ip_address)\n",
    "\n",
    "# Get the instrument's *IDN\n",
    "resp = inst.send_scpi_query('*IDN?')\n",
    "print(resp)\n",
    "\n",
    "# Get the model:\n",
    "model_name = inst.send_scpi_query('SYST:INF:MODel?')\n",
    "print('Model: {0} '.format(model_name))\n",
    "\n",
    "# Get number of channels\n",
    "resp = inst.send_scpi_query(\":INST:CHAN? MAX\")\n",
    "#print(\"Number of channels: \" + resp)\n",
    "num_channels = int(resp)\n",
    "\n",
    "# Get the DAC mode (8 bits or 16 bits)\n",
    "resp = inst.send_scpi_query(':SYST:INF:DAC?')\n",
    "if resp == 'M0':\n",
    "    dac_mode = 16\n",
    "else:\n",
    "    dac_mode = 8\n",
    "\n",
    "print('DAC {0} bits'.format(dac_mode))\n",
    "\n",
    "if dac_mode == 16:\n",
    "    max_dac = 65535\n",
    "    data_type = np.uint16 \n",
    "else:\n",
    "    max_dac = 255\n",
    "    data_type = np.uint8 \n",
    "    \n",
    "half_dac = max_dac / 2.0\n",
    "\n",
    "# Several initializations ..\n",
    "inst.send_scpi_cmd('*CLS; *RST')\n",
    "inst.send_scpi_cmd(':INST:CHAN 1')\n",
    "inst.send_scpi_cmd(':SOUR:FREQ {0}'.format(sampling_rate))\n",
    "inst.send_scpi_cmd(':TRAC:DEL:ALL')\n",
    "resp = inst.send_scpi_query(':SYST:ERR?')\n",
    "resp = resp.rstrip()\n",
    "if not resp.startswith('0'):\n",
    "    print('ERROR: \"{0}\" after writing binary values'.format(resp))"
   ]
  },
  {
   "cell_type": "markdown",
   "metadata": {},
   "source": [
    "## Configure Generator"
   ]
  },
  {
   "cell_type": "code",
   "execution_count": 3,
   "metadata": {},
   "outputs": [
    {
     "name": "stdout",
     "output_type": "stream",
     "text": [
      "*IDN? returned: KEYSIGHT TECHNOLOGIES,MSO9254A,MY55490134,06.40.01101\n"
     ]
    }
   ],
   "source": [
    "# channel_on_scope = 1\n",
    "vertical_scale_per_divison = 0.10\n",
    "horizontal_scale_per_divison = 100e-12\n",
    "# scope_time_scale = 2e-9\n",
    "riseFall_time = 130e-12\n",
    "scope_addr2= 'USB0::0x2A8D::0x900E::MY55490134::INSTR'\n",
    "# connect to scope via USB\n",
    "try:\n",
    "    resourceManager = visa.ResourceManager()   # Create a connection (session) to the instrument\n",
    "    scope = resourceManager.open_resource(scope_addr2)\n",
    "except visa.Error as ex2:\n",
    "        print('Couldn\\'t connect to \\'%s\\', exiting now...' % scope_addr2)\n",
    "        sys.exit()\n",
    "    ## scope acquisition \n",
    "# Send *IDN? and read the response\n",
    "scope.write('*RST?')\n",
    "scope.write('*IDN?')\n",
    "idn = scope.read()\n",
    "print('*IDN? returned: %s' % idn.rstrip('\\n'))"
   ]
  },
  {
   "cell_type": "code",
   "execution_count": 4,
   "metadata": {},
   "outputs": [
    {
     "name": "stdout",
     "output_type": "stream",
     "text": [
      "Rise time :133.0ps\n",
      "TEST FAILED for rise time on channel 1\n",
      "Rise time :137.4ps\n",
      "TEST FAILED for rise time on channel 2\n",
      "Rise time :134.73999999999998ps\n",
      "TEST FAILED for rise time on channel 3\n",
      "Rise time :131.36ps\n",
      "TEST FAILED for rise time on channel 4\n"
     ]
    },
    {
     "data": {
      "image/png": "[encoded data removed]",
      "text/plain": [
       "<Figure size 640x480 with 1 Axes>"
      ]
     },
     "metadata": {},
     "output_type": "display_data"
    }
   ],
   "source": [
    "# Build two AWG segment that will be used as innput for the digitizer\n",
    "cycleLen = 1024*2\n",
    "numCycles = 8\n",
    "segLen = cycleLen * numCycles\n",
    "segnum = 1\n",
    "# waves = []\n",
    "\n",
    "# Build waveform (sine wave)\n",
    "x = np.linspace(start=0, stop=segLen, num=segLen, endpoint=False)\n",
    "\n",
    "y = np.fmod(x,cycleLen)\n",
    "y = (y <= cycleLen/20)*max_dac\n",
    "y = np.round(y)\n",
    "y = np.clip(y, 0, max_dac)\n",
    "y = y.astype(data_type)\n",
    "\n",
    "# y = (np.sin(x)+1.0)* half_dac\n",
    "# #y = np.arcsin(y)* 2 * half_dac / np.pi + half_dac\n",
    "# y = np.round(y)\n",
    "# y = np.clip(y, 0, max_dac)\n",
    "# y = y.astype(data_type)\n",
    "# download it to segment 2 of channel 1\n",
    "for i in range(num_channels):\n",
    "    channb = i+1\n",
    "    inst.send_scpi_cmd(':INST:CHAN {}'.format(channb))\n",
    "    inst.send_scpi_cmd(':TRAC:DEF 1,' + str(segLen))\n",
    "    inst.send_scpi_cmd(':TRAC:SEL 1')\n",
    "    inst.send_scpi_cmd(':SOUR:FUNC:MODE:SEGM 1')\n",
    "    inst.send_scpi_cmd(':SOUR:VOLT 0.5')\n",
    "    resp = resp.rstrip()\n",
    "    if not resp.startswith('0'):\n",
    "        print('ERROR: \"{0}\" after writing binary values'.format(resp))\n",
    "\n",
    "    inst.timeout = 30000\n",
    "    inst.send_scpi_cmd(':TRAC:SEL 1')\n",
    "    inst.write_binary_data(':TRAC:DATA', y)\n",
    "    inst.send_scpi_cmd(':SOUR:FUNC:MODE:SEGM 1')\n",
    "    inst.send_scpi_cmd(':OUTP ON')\n",
    "    resp = inst.send_scpi_query(':SYST:ERR?')\n",
    "    \n",
    "    plt.plot(x,y)\n",
    "    resp = inst.send_scpi_query(':SYST:ERR?')\n",
    "    resp = resp.rstrip()\n",
    "    if not resp.startswith('0'):\n",
    "        print('ERROR: \"{0}\" after writing binary values'.format(resp))\n",
    "        \n",
    "    #scope.write('*CLS;:DISPlay:CGRade:LEVels ')\n",
    "    scope.write('*RST;:CHAN{0}:DISP ON;:TIMebase:SCALe {1}'.format(channb,horizontal_scale_per_divison))\n",
    "    scope.write(':TRIGger:SWEep TRIGgered')\n",
    "    scope.write(':TRIGger:MODE EDGE')\n",
    "    scope.write(':TRIGger:EDGE:SOURce CHANnel{}'.format(channb))\n",
    "    scope.write(':CHAN{0}:SCAL {1};:CHAN{0}:INP DC50'.format(channb,vertical_scale_per_divison))\n",
    "    #scope.write('*RST;:CHAN{0}:DISP ON;'.format(channel_on_scope,scope_time_scale))\n",
    "    #scope.write('*RST;:CHAN{0}:DISP ON;:TIMebase:SCALe {1}'.format(channel_on_scope,horizontal_scale_per_divison))\n",
    "    #scope.write('*RST;:CHAN{0}:DISP ON;:TIMebase:POS 274e-3'.format(channb))\n",
    "    scope.write(':CHANnel{}:OFFSet 274e-3'.format(channb))\n",
    "    #[<source>[,<start_level>,<stop_level>]]\n",
    "    time.sleep(1)\n",
    "    scope.write(':MEASure:RISetime CHANnel{0},20,80'.format(channb))\n",
    "    time.sleep(10)\n",
    "    scope.write(':MEASure:RESults?')\n",
    "    result = scope.read()\n",
    "    rise_time_temp= float(result.split(',')[1])\n",
    "    print(\"Rise time :{}ps\".format(rise_time_temp/1e-12))\n",
    "    scope.write('*RST;:CHAN{0}:DISP OFF'.format(channb))\n",
    "    if rise_time_temp>riseFall_time:\n",
    "        test_success = False\n",
    "        print(\"TEST FAILED for rise time on channel {}\".format(channb))\n",
    "    else:\n",
    "        print(\"TEST PASSED for rise time on channel {}\".format(channb))\n"
   ]
  },
  {
   "cell_type": "code",
   "execution_count": 5,
   "metadata": {},
   "outputs": [
    {
     "name": "stdout",
     "output_type": "stream",
     "text": [
      "Test failed\n",
      "Proteus disconnected successfully\n"
     ]
    }
   ],
   "source": [
    "if(test_success):\n",
    "    print('Test successed')\n",
    "else:\n",
    "     print('Test failed')\n",
    "disconnect()\n",
    "# Close the connection to the instrument\n",
    "scope.close()\n",
    "resourceManager.close()\n",
    "print('Proteus disconnected successfully')"
   ]
  }
 ],
 "metadata": {
  "celltoolbar": "Edit Metadata",
  "kernelspec": {
   "display_name": "Python 3 (ipykernel)",
   "language": "python",
   "name": "python3"
  },
  "language_info": {
   "codemirror_mode": {
    "name": "ipython",
    "version": 3
   },
   "file_extension": ".py",
   "mimetype": "text/x-python",
   "name": "python",
   "nbconvert_exporter": "python",
   "pygments_lexer": "ipython3",
   "version": "3.9.13"
  }
 },
 "nbformat": 4,
 "nbformat_minor": 2
}
